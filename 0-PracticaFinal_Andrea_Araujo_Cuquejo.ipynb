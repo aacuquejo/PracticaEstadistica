{
 "cells": [
  {
   "cell_type": "code",
   "execution_count": 1,
   "metadata": {},
   "outputs": [],
   "source": [
    "library(ggplot2)\n",
    "options(repr.plot.height=4,repr.plot.width=6)"
   ]
  },
  {
   "cell_type": "markdown",
   "metadata": {},
   "source": [
    "Cargar los datos en un dataframe llamado: airbnb"
   ]
  },
  {
   "cell_type": "code",
   "execution_count": 2,
   "metadata": {},
   "outputs": [],
   "source": [
    "airbnb<-read.csv('data//airbnb.csv',sep = ',', stringsAsFactors = T)"
   ]
  },
  {
   "cell_type": "markdown",
   "metadata": {},
   "source": [
    "Mostrar las primeras 6 filas del dataframe"
   ]
  },
  {
   "cell_type": "code",
   "execution_count": 3,
   "metadata": {
    "scrolled": false
   },
   "outputs": [
    {
     "data": {
      "text/html": [
       "<table class=\"dataframe\">\n",
       "<caption>A data.frame: 6 × 13</caption>\n",
       "<thead>\n",
       "\t<tr><th></th><th scope=col>Zipcode</th><th scope=col>Neighbourhood.Cleansed</th><th scope=col>Property.Type</th><th scope=col>Room.Type</th><th scope=col>Accommodates</th><th scope=col>Bathrooms</th><th scope=col>Bedrooms</th><th scope=col>Beds</th><th scope=col>Bed.Type</th><th scope=col>Amenities</th><th scope=col>Square.Feet</th><th scope=col>Price</th><th scope=col>Review.Scores.Rating</th></tr>\n",
       "\t<tr><th></th><th scope=col>&lt;fct&gt;</th><th scope=col>&lt;fct&gt;</th><th scope=col>&lt;fct&gt;</th><th scope=col>&lt;fct&gt;</th><th scope=col>&lt;int&gt;</th><th scope=col>&lt;dbl&gt;</th><th scope=col>&lt;int&gt;</th><th scope=col>&lt;int&gt;</th><th scope=col>&lt;fct&gt;</th><th scope=col>&lt;fct&gt;</th><th scope=col>&lt;int&gt;</th><th scope=col>&lt;int&gt;</th><th scope=col>&lt;int&gt;</th></tr>\n",
       "</thead>\n",
       "<tbody>\n",
       "\t<tr><th scope=row>1</th><td>28004</td><td>Universidad</td><td>Apartment</td><td>Private room   </td><td>2</td><td>2</td><td>1</td><td>1</td><td>Real Bed</td><td>TV,Wireless Internet,Kitchen,Pets allowed,Pets live on this property,Buzzer/wireless intercom,Heating,Suitable for events,Washer,First aid kit,Essentials,Lock on bedroom door,Iron                                                                                                                                                                             </td><td> NA</td><td>35</td><td> NA</td></tr>\n",
       "\t<tr><th scope=row>2</th><td>28004</td><td>Universidad</td><td>Apartment</td><td>Entire home/apt</td><td>6</td><td>1</td><td>3</td><td>5</td><td>Real Bed</td><td>TV,Internet,Wireless Internet,Air conditioning,Kitchen,Indoor fireplace,Heating,Family/kid friendly,Washer,Dryer,Smoke detector,Carbon monoxide detector,Essentials,Shampoo                                                                                                                                                                                     </td><td> NA</td><td>92</td><td> 96</td></tr>\n",
       "\t<tr><th scope=row>3</th><td>28004</td><td>Universidad</td><td>Apartment</td><td>Entire home/apt</td><td>3</td><td>1</td><td>2</td><td>2</td><td>Real Bed</td><td>TV,Internet,Wireless Internet,Air conditioning,Kitchen,Doorman,Heating,Family/kid friendly,Washer,Essentials,Shampoo,Hangers,Hair dryer,Iron,Laptop friendly workspace                                                                                                                                                                                          </td><td> NA</td><td>55</td><td> 91</td></tr>\n",
       "\t<tr><th scope=row>4</th><td>28004</td><td>Universidad</td><td>Loft     </td><td>Entire home/apt</td><td>3</td><td>2</td><td>1</td><td>1</td><td>Real Bed</td><td>TV,Internet,Wireless Internet,Air conditioning,Kitchen,Pets allowed,Breakfast,Elevator in building,Indoor fireplace,Buzzer/wireless intercom,Heating,Washer,Essentials,Shampoo,Hangers,Hair dryer,Iron,Laptop friendly workspace,translation missing: en.hosting_amenity_49,translation missing: en.hosting_amenity_50                                          </td><td> NA</td><td>60</td><td>100</td></tr>\n",
       "\t<tr><th scope=row>5</th><td>28015</td><td>Universidad</td><td>Apartment</td><td>Entire home/apt</td><td>5</td><td>1</td><td>1</td><td>1</td><td>Real Bed</td><td>TV,Wireless Internet,Air conditioning,Kitchen,Smoking allowed,Pets allowed,Elevator in building,Heating,Family/kid friendly,Washer,Essentials,Iron                                                                                                                                                                                                              </td><td>538</td><td>75</td><td> 90</td></tr>\n",
       "\t<tr><th scope=row>6</th><td>28004</td><td>Universidad</td><td>Apartment</td><td>Entire home/apt</td><td>2</td><td>1</td><td>0</td><td>1</td><td>Real Bed</td><td>TV,Cable TV,Internet,Wireless Internet,Air conditioning,Wheelchair accessible,Kitchen,Doorman,Elevator in building,Buzzer/wireless intercom,Heating,Washer,Smoke detector,Carbon monoxide detector,First aid kit,Safety card,Fire extinguisher,Essentials,Shampoo,24-hour check-in,Hangers,Hair dryer,Iron,Laptop friendly workspace,Self Check-In,Doorman Entry</td><td> NA</td><td>55</td><td> 95</td></tr>\n",
       "</tbody>\n",
       "</table>\n"
      ],
      "text/latex": [
       "A data.frame: 6 × 13\n",
       "\\begin{tabular}{r|lllllllllllll}\n",
       "  & Zipcode & Neighbourhood.Cleansed & Property.Type & Room.Type & Accommodates & Bathrooms & Bedrooms & Beds & Bed.Type & Amenities & Square.Feet & Price & Review.Scores.Rating\\\\\n",
       "  & <fct> & <fct> & <fct> & <fct> & <int> & <dbl> & <int> & <int> & <fct> & <fct> & <int> & <int> & <int>\\\\\n",
       "\\hline\n",
       "\t1 & 28004 & Universidad & Apartment & Private room    & 2 & 2 & 1 & 1 & Real Bed & TV,Wireless Internet,Kitchen,Pets allowed,Pets live on this property,Buzzer/wireless intercom,Heating,Suitable for events,Washer,First aid kit,Essentials,Lock on bedroom door,Iron                                                                                                                                                                              &  NA & 35 &  NA\\\\\n",
       "\t2 & 28004 & Universidad & Apartment & Entire home/apt & 6 & 1 & 3 & 5 & Real Bed & TV,Internet,Wireless Internet,Air conditioning,Kitchen,Indoor fireplace,Heating,Family/kid friendly,Washer,Dryer,Smoke detector,Carbon monoxide detector,Essentials,Shampoo                                                                                                                                                                                      &  NA & 92 &  96\\\\\n",
       "\t3 & 28004 & Universidad & Apartment & Entire home/apt & 3 & 1 & 2 & 2 & Real Bed & TV,Internet,Wireless Internet,Air conditioning,Kitchen,Doorman,Heating,Family/kid friendly,Washer,Essentials,Shampoo,Hangers,Hair dryer,Iron,Laptop friendly workspace                                                                                                                                                                                           &  NA & 55 &  91\\\\\n",
       "\t4 & 28004 & Universidad & Loft      & Entire home/apt & 3 & 2 & 1 & 1 & Real Bed & TV,Internet,Wireless Internet,Air conditioning,Kitchen,Pets allowed,Breakfast,Elevator in building,Indoor fireplace,Buzzer/wireless intercom,Heating,Washer,Essentials,Shampoo,Hangers,Hair dryer,Iron,Laptop friendly workspace,translation missing: en.hosting\\_amenity\\_49,translation missing: en.hosting\\_amenity\\_50                                           &  NA & 60 & 100\\\\\n",
       "\t5 & 28015 & Universidad & Apartment & Entire home/apt & 5 & 1 & 1 & 1 & Real Bed & TV,Wireless Internet,Air conditioning,Kitchen,Smoking allowed,Pets allowed,Elevator in building,Heating,Family/kid friendly,Washer,Essentials,Iron                                                                                                                                                                                                               & 538 & 75 &  90\\\\\n",
       "\t6 & 28004 & Universidad & Apartment & Entire home/apt & 2 & 1 & 0 & 1 & Real Bed & TV,Cable TV,Internet,Wireless Internet,Air conditioning,Wheelchair accessible,Kitchen,Doorman,Elevator in building,Buzzer/wireless intercom,Heating,Washer,Smoke detector,Carbon monoxide detector,First aid kit,Safety card,Fire extinguisher,Essentials,Shampoo,24-hour check-in,Hangers,Hair dryer,Iron,Laptop friendly workspace,Self Check-In,Doorman Entry &  NA & 55 &  95\\\\\n",
       "\\end{tabular}\n"
      ],
      "text/markdown": [
       "\n",
       "A data.frame: 6 × 13\n",
       "\n",
       "| <!--/--> | Zipcode &lt;fct&gt; | Neighbourhood.Cleansed &lt;fct&gt; | Property.Type &lt;fct&gt; | Room.Type &lt;fct&gt; | Accommodates &lt;int&gt; | Bathrooms &lt;dbl&gt; | Bedrooms &lt;int&gt; | Beds &lt;int&gt; | Bed.Type &lt;fct&gt; | Amenities &lt;fct&gt; | Square.Feet &lt;int&gt; | Price &lt;int&gt; | Review.Scores.Rating &lt;int&gt; |\n",
       "|---|---|---|---|---|---|---|---|---|---|---|---|---|---|\n",
       "| 1 | 28004 | Universidad | Apartment | Private room    | 2 | 2 | 1 | 1 | Real Bed | TV,Wireless Internet,Kitchen,Pets allowed,Pets live on this property,Buzzer/wireless intercom,Heating,Suitable for events,Washer,First aid kit,Essentials,Lock on bedroom door,Iron                                                                                                                                                                              |  NA | 35 |  NA |\n",
       "| 2 | 28004 | Universidad | Apartment | Entire home/apt | 6 | 1 | 3 | 5 | Real Bed | TV,Internet,Wireless Internet,Air conditioning,Kitchen,Indoor fireplace,Heating,Family/kid friendly,Washer,Dryer,Smoke detector,Carbon monoxide detector,Essentials,Shampoo                                                                                                                                                                                      |  NA | 92 |  96 |\n",
       "| 3 | 28004 | Universidad | Apartment | Entire home/apt | 3 | 1 | 2 | 2 | Real Bed | TV,Internet,Wireless Internet,Air conditioning,Kitchen,Doorman,Heating,Family/kid friendly,Washer,Essentials,Shampoo,Hangers,Hair dryer,Iron,Laptop friendly workspace                                                                                                                                                                                           |  NA | 55 |  91 |\n",
       "| 4 | 28004 | Universidad | Loft      | Entire home/apt | 3 | 2 | 1 | 1 | Real Bed | TV,Internet,Wireless Internet,Air conditioning,Kitchen,Pets allowed,Breakfast,Elevator in building,Indoor fireplace,Buzzer/wireless intercom,Heating,Washer,Essentials,Shampoo,Hangers,Hair dryer,Iron,Laptop friendly workspace,translation missing: en.hosting_amenity_49,translation missing: en.hosting_amenity_50                                           |  NA | 60 | 100 |\n",
       "| 5 | 28015 | Universidad | Apartment | Entire home/apt | 5 | 1 | 1 | 1 | Real Bed | TV,Wireless Internet,Air conditioning,Kitchen,Smoking allowed,Pets allowed,Elevator in building,Heating,Family/kid friendly,Washer,Essentials,Iron                                                                                                                                                                                                               | 538 | 75 |  90 |\n",
       "| 6 | 28004 | Universidad | Apartment | Entire home/apt | 2 | 1 | 0 | 1 | Real Bed | TV,Cable TV,Internet,Wireless Internet,Air conditioning,Wheelchair accessible,Kitchen,Doorman,Elevator in building,Buzzer/wireless intercom,Heating,Washer,Smoke detector,Carbon monoxide detector,First aid kit,Safety card,Fire extinguisher,Essentials,Shampoo,24-hour check-in,Hangers,Hair dryer,Iron,Laptop friendly workspace,Self Check-In,Doorman Entry |  NA | 55 |  95 |\n",
       "\n"
      ],
      "text/plain": [
       "  Zipcode Neighbourhood.Cleansed Property.Type Room.Type       Accommodates\n",
       "1 28004   Universidad            Apartment     Private room    2           \n",
       "2 28004   Universidad            Apartment     Entire home/apt 6           \n",
       "3 28004   Universidad            Apartment     Entire home/apt 3           \n",
       "4 28004   Universidad            Loft          Entire home/apt 3           \n",
       "5 28015   Universidad            Apartment     Entire home/apt 5           \n",
       "6 28004   Universidad            Apartment     Entire home/apt 2           \n",
       "  Bathrooms Bedrooms Beds Bed.Type\n",
       "1 2         1        1    Real Bed\n",
       "2 1         3        5    Real Bed\n",
       "3 1         2        2    Real Bed\n",
       "4 2         1        1    Real Bed\n",
       "5 1         1        1    Real Bed\n",
       "6 1         0        1    Real Bed\n",
       "  Amenities                                                                                                                                                                                                                                                                                                                                                       \n",
       "1 TV,Wireless Internet,Kitchen,Pets allowed,Pets live on this property,Buzzer/wireless intercom,Heating,Suitable for events,Washer,First aid kit,Essentials,Lock on bedroom door,Iron                                                                                                                                                                             \n",
       "2 TV,Internet,Wireless Internet,Air conditioning,Kitchen,Indoor fireplace,Heating,Family/kid friendly,Washer,Dryer,Smoke detector,Carbon monoxide detector,Essentials,Shampoo                                                                                                                                                                                     \n",
       "3 TV,Internet,Wireless Internet,Air conditioning,Kitchen,Doorman,Heating,Family/kid friendly,Washer,Essentials,Shampoo,Hangers,Hair dryer,Iron,Laptop friendly workspace                                                                                                                                                                                          \n",
       "4 TV,Internet,Wireless Internet,Air conditioning,Kitchen,Pets allowed,Breakfast,Elevator in building,Indoor fireplace,Buzzer/wireless intercom,Heating,Washer,Essentials,Shampoo,Hangers,Hair dryer,Iron,Laptop friendly workspace,translation missing: en.hosting_amenity_49,translation missing: en.hosting_amenity_50                                          \n",
       "5 TV,Wireless Internet,Air conditioning,Kitchen,Smoking allowed,Pets allowed,Elevator in building,Heating,Family/kid friendly,Washer,Essentials,Iron                                                                                                                                                                                                              \n",
       "6 TV,Cable TV,Internet,Wireless Internet,Air conditioning,Wheelchair accessible,Kitchen,Doorman,Elevator in building,Buzzer/wireless intercom,Heating,Washer,Smoke detector,Carbon monoxide detector,First aid kit,Safety card,Fire extinguisher,Essentials,Shampoo,24-hour check-in,Hangers,Hair dryer,Iron,Laptop friendly workspace,Self Check-In,Doorman Entry\n",
       "  Square.Feet Price Review.Scores.Rating\n",
       "1  NA         35     NA                 \n",
       "2  NA         92     96                 \n",
       "3  NA         55     91                 \n",
       "4  NA         60    100                 \n",
       "5 538         75     90                 \n",
       "6  NA         55     95                 "
      ]
     },
     "metadata": {},
     "output_type": "display_data"
    }
   ],
   "source": [
    "airbnb[c(1:6),]"
   ]
  },
  {
   "cell_type": "markdown",
   "metadata": {},
   "source": [
    "Renombrar las columnas de la siguiente forma:\n",
    "\n",
    "| Nombre original | Nuevo nombre |\n",
    "| - | - |\n",
    "| Zipcode | CodigoPostal |\n",
    "| Neighbourhood.Cleansed | Barrio |\n",
    "| Property.Type\t| TipoPropiedad |\n",
    "| Room.Type | TipoAlquiler |\n",
    "| Accommodates | MaxOcupantes |\n",
    "| Bathrooms\t| NumBanyos |\n",
    "| Bedrooms\t| NumDormitorios |\n",
    "| Beds\t|  NumCamas |\n",
    "| Bed.Type\t| TipoCama |\n",
    "| Amenities | Comodidades |\n",
    "| Square.Feet | PiesCuadrados |\n",
    "| Price\t| Precio |\n",
    "| Review.Scores.Rating | Puntuacion |"
   ]
  },
  {
   "cell_type": "code",
   "execution_count": 4,
   "metadata": {},
   "outputs": [],
   "source": [
    "newnames<-c(\"CodigoPostal\",\"Barrio\",\"TipoPropiedad\",\"TipoAlquiler\",\"MaxOcupantes\",\"NumBanyos\",\n",
    "\"NumDormitorios\",\"NumCamas\",\"TipoCama\",\"Comodidades\",\"PiesCuadrados\",\"Precio\",\"Puntuacion\")\n",
    "\n",
    "\n",
    "names(airbnb)<-newnames\n"
   ]
  },
  {
   "cell_type": "markdown",
   "metadata": {},
   "source": [
    "Crea una nueva columna llamada MetrosCuadrados a partir de la columna PiesCuadrados.\n",
    "\n",
    "Ayuda: 1 pie cuadrado son 0,092903 metros cuadrdados"
   ]
  },
  {
   "cell_type": "code",
   "execution_count": 5,
   "metadata": {},
   "outputs": [],
   "source": [
    "airbnb$MetrosCuadrados<-c(airbnb$PiesCuadrados*0.092903)"
   ]
  },
  {
   "cell_type": "markdown",
   "metadata": {},
   "source": [
    "Miremos el código postal. Es una variable con entradas erroneas.\n",
    "Hay valores como '', '-'  y '28' que deberían ser considerados como NA.\n",
    "Así mismo también debería ser NA todos los que no compiencen por 28, ya que estamos con códigos postales de Madrid\n",
    "\n",
    "El código postal 28002, 28004 y 28051 tienen entradas repetidas. \n",
    "Por ejemplo las entradas 28002\\n20882 deberían ir dnetro de 28002\n",
    "\n",
    "El codigo 2804 debería ser 28004, 2805 deberia ser 28005 y 2815 juncto con 2815 debería ser 28015\n",
    "\n",
    "Limpia los datos de la columna Codigo Postal"
   ]
  },
  {
   "cell_type": "code",
   "execution_count": 6,
   "metadata": {},
   "outputs": [],
   "source": [
    "airbnb[which(airbnb$CodigoPostal == '28'),'CodigoPostal'] <- NA\n",
    "airbnb[which(airbnb$CodigoPostal == '-'),'CodigoPostal'] <- NA\n",
    "airbnb[which(airbnb$CodigoPostal == ''),'CodigoPostal'] <- NA\n",
    "\n",
    "airbnb[which(grepl(\"^2[0,1,2,3,4,5,6,7,9]\",airbnb$CodigoPostal)),'CodigoPostal']<-NA\n",
    "\n",
    "airbnb$CodigoPostal<-gsub(\"Madrid 28004\",\"28004\",airbnb$CodigoPostal)\n",
    "airbnb$CodigoPostal<-gsub(\"^2815$\",\"28015\",airbnb$CodigoPostal)\n",
    "airbnb$CodigoPostal<-gsub(\"^2804$\",\"28004\",airbnb$CodigoPostal)\n",
    "airbnb$CodigoPostal<-gsub(\"^2805$\",\"28005\",airbnb$CodigoPostal)\n",
    "airbnb$CodigoPostal<-gsub(\"28051\\n28051\",\"28051\",airbnb$CodigoPostal)\n",
    "airbnb$CodigoPostal<-gsub(\"28002\\n28002\",\"28002\",airbnb$CodigoPostal)"
   ]
  },
  {
   "cell_type": "markdown",
   "metadata": {},
   "source": [
    "Una vez limpios los datos ¿Cuales son los códigos postales que tenemos? "
   ]
  },
  {
   "cell_type": "code",
   "execution_count": 7,
   "metadata": {
    "scrolled": true
   },
   "outputs": [
    {
     "data": {
      "text/html": [
       "<style>\n",
       ".list-inline {list-style: none; margin:0; padding: 0}\n",
       ".list-inline>li {display: inline-block}\n",
       ".list-inline>li:not(:last-child)::after {content: \"\\00b7\"; padding: 0 .5ex}\n",
       "</style>\n",
       "<ol class=list-inline><li>'28004'</li><li>'28015'</li><li>'28013'</li><li>'28005'</li><li>'28012'</li><li>'28014'</li><li>'28045'</li><li>'28007'</li><li>'28028'</li><li>'28009'</li><li>'28001'</li><li>'28006'</li><li>'28010'</li><li>'28002'</li><li>'28034'</li><li>'28050'</li><li>'28008'</li><li>'28011'</li><li>'28049'</li><li>'28038'</li><li>'28053'</li><li>'28047'</li><li>'28025'</li><li>'28019'</li><li>'28024'</li><li>'28016'</li><li>'28036'</li><li>'28046'</li><li>'28039'</li><li>'28020'</li><li>'28003'</li><li>'28029'</li><li>'28054'</li><li>'28041'</li><li>'28026'</li><li>'28058'</li><li>'28018'</li><li>'28030'</li><li>'28017'</li><li>'28027'</li><li>'28043'</li><li>'28033'</li><li>'28055'</li><li>'28021'</li><li>'28032'</li><li>'28037'</li><li>'28022'</li><li>'28042'</li><li>'28094'</li><li>'280013'</li><li>'28035'</li><li>'28040'</li><li>'28031'</li><li>'28044'</li><li>'28105'</li><li>'28023'</li><li>'28051'</li><li>'28850'</li><li>'28048'</li><li>'28056'</li><li>'28060'</li><li>'28052'</li></ol>\n"
      ],
      "text/latex": [
       "\\begin{enumerate*}\n",
       "\\item '28004'\n",
       "\\item '28015'\n",
       "\\item '28013'\n",
       "\\item '28005'\n",
       "\\item '28012'\n",
       "\\item '28014'\n",
       "\\item '28045'\n",
       "\\item '28007'\n",
       "\\item '28028'\n",
       "\\item '28009'\n",
       "\\item '28001'\n",
       "\\item '28006'\n",
       "\\item '28010'\n",
       "\\item '28002'\n",
       "\\item '28034'\n",
       "\\item '28050'\n",
       "\\item '28008'\n",
       "\\item '28011'\n",
       "\\item '28049'\n",
       "\\item '28038'\n",
       "\\item '28053'\n",
       "\\item '28047'\n",
       "\\item '28025'\n",
       "\\item '28019'\n",
       "\\item '28024'\n",
       "\\item '28016'\n",
       "\\item '28036'\n",
       "\\item '28046'\n",
       "\\item '28039'\n",
       "\\item '28020'\n",
       "\\item '28003'\n",
       "\\item '28029'\n",
       "\\item '28054'\n",
       "\\item '28041'\n",
       "\\item '28026'\n",
       "\\item '28058'\n",
       "\\item '28018'\n",
       "\\item '28030'\n",
       "\\item '28017'\n",
       "\\item '28027'\n",
       "\\item '28043'\n",
       "\\item '28033'\n",
       "\\item '28055'\n",
       "\\item '28021'\n",
       "\\item '28032'\n",
       "\\item '28037'\n",
       "\\item '28022'\n",
       "\\item '28042'\n",
       "\\item '28094'\n",
       "\\item '280013'\n",
       "\\item '28035'\n",
       "\\item '28040'\n",
       "\\item '28031'\n",
       "\\item '28044'\n",
       "\\item '28105'\n",
       "\\item '28023'\n",
       "\\item '28051'\n",
       "\\item '28850'\n",
       "\\item '28048'\n",
       "\\item '28056'\n",
       "\\item '28060'\n",
       "\\item '28052'\n",
       "\\end{enumerate*}\n"
      ],
      "text/markdown": [
       "1. '28004'\n",
       "2. '28015'\n",
       "3. '28013'\n",
       "4. '28005'\n",
       "5. '28012'\n",
       "6. '28014'\n",
       "7. '28045'\n",
       "8. '28007'\n",
       "9. '28028'\n",
       "10. '28009'\n",
       "11. '28001'\n",
       "12. '28006'\n",
       "13. '28010'\n",
       "14. '28002'\n",
       "15. '28034'\n",
       "16. '28050'\n",
       "17. '28008'\n",
       "18. '28011'\n",
       "19. '28049'\n",
       "20. '28038'\n",
       "21. '28053'\n",
       "22. '28047'\n",
       "23. '28025'\n",
       "24. '28019'\n",
       "25. '28024'\n",
       "26. '28016'\n",
       "27. '28036'\n",
       "28. '28046'\n",
       "29. '28039'\n",
       "30. '28020'\n",
       "31. '28003'\n",
       "32. '28029'\n",
       "33. '28054'\n",
       "34. '28041'\n",
       "35. '28026'\n",
       "36. '28058'\n",
       "37. '28018'\n",
       "38. '28030'\n",
       "39. '28017'\n",
       "40. '28027'\n",
       "41. '28043'\n",
       "42. '28033'\n",
       "43. '28055'\n",
       "44. '28021'\n",
       "45. '28032'\n",
       "46. '28037'\n",
       "47. '28022'\n",
       "48. '28042'\n",
       "49. '28094'\n",
       "50. '280013'\n",
       "51. '28035'\n",
       "52. '28040'\n",
       "53. '28031'\n",
       "54. '28044'\n",
       "55. '28105'\n",
       "56. '28023'\n",
       "57. '28051'\n",
       "58. '28850'\n",
       "59. '28048'\n",
       "60. '28056'\n",
       "61. '28060'\n",
       "62. '28052'\n",
       "\n",
       "\n"
      ],
      "text/plain": [
       " [1] \"28004\"  \"28015\"  \"28013\"  \"28005\"  \"28012\"  \"28014\"  \"28045\"  \"28007\" \n",
       " [9] \"28028\"  \"28009\"  \"28001\"  \"28006\"  \"28010\"  \"28002\"  \"28034\"  \"28050\" \n",
       "[17] \"28008\"  \"28011\"  \"28049\"  \"28038\"  \"28053\"  \"28047\"  \"28025\"  \"28019\" \n",
       "[25] \"28024\"  \"28016\"  \"28036\"  \"28046\"  \"28039\"  \"28020\"  \"28003\"  \"28029\" \n",
       "[33] \"28054\"  \"28041\"  \"28026\"  \"28058\"  \"28018\"  \"28030\"  \"28017\"  \"28027\" \n",
       "[41] \"28043\"  \"28033\"  \"28055\"  \"28021\"  \"28032\"  \"28037\"  \"28022\"  \"28042\" \n",
       "[49] \"28094\"  \"280013\" \"28035\"  \"28040\"  \"28031\"  \"28044\"  \"28105\"  \"28023\" \n",
       "[57] \"28051\"  \"28850\"  \"28048\"  \"28056\"  \"28060\"  \"28052\" "
      ]
     },
     "metadata": {},
     "output_type": "display_data"
    }
   ],
   "source": [
    "unique(na.omit(airbnb$CodigoPostal))"
   ]
  },
  {
   "cell_type": "markdown",
   "metadata": {},
   "source": [
    "¿Cuales son los 5 códigos postales con más entradas? ¿Y con menos? ¿Cuantas entradas tienen?"
   ]
  },
  {
   "cell_type": "code",
   "execution_count": 8,
   "metadata": {},
   "outputs": [
    {
     "data": {
      "text/plain": [
       "\n",
       "28012 28004 28005 28013 28014 \n",
       " 2060  1796  1195  1019   630 "
      ]
     },
     "metadata": {},
     "output_type": "display_data"
    }
   ],
   "source": [
    "cpTop5<-table(na.omit(airbnb$CodigoPostal))\n",
    "cpTop5<-sort(cpTop5,decreasing  = TRUE)\n",
    "cpTop5[1:5] #con más entradas"
   ]
  },
  {
   "cell_type": "code",
   "execution_count": 9,
   "metadata": {},
   "outputs": [
    {
     "data": {
      "text/plain": [
       "\n",
       "280013  28048  28052  28056  28058 \n",
       "     1      1      1      1      1 "
      ]
     },
     "metadata": {},
     "output_type": "display_data"
    }
   ],
   "source": [
    "cpTop5<-sort(cpTop5,decreasing  = FALSE)\n",
    "cpTop5[1:5] #con menos entradas"
   ]
  },
  {
   "cell_type": "markdown",
   "metadata": {},
   "source": [
    "¿Cuales son los barrios que hay en el código postal 28012?"
   ]
  },
  {
   "cell_type": "code",
   "execution_count": 10,
   "metadata": {},
   "outputs": [
    {
     "data": {
      "text/html": [
       "<style>\n",
       ".list-inline {list-style: none; margin:0; padding: 0}\n",
       ".list-inline>li {display: inline-block}\n",
       ".list-inline>li:not(:last-child)::after {content: \"\\00b7\"; padding: 0 .5ex}\n",
       "</style>\n",
       "<ol class=list-inline><li>Sol</li><li>Acacias</li><li>Palos de Moguer</li><li>Embajadores</li><li>Cortes</li><li>Palacio</li><li>Universidad</li><li>Delicias</li><li>Arapiles</li><li>Atocha</li><li>Goya</li></ol>\n",
       "\n",
       "<details>\n",
       "\t<summary style=display:list-item;cursor:pointer>\n",
       "\t\t<strong>Levels</strong>:\n",
       "\t</summary>\n",
       "\t<style>\n",
       "\t.list-inline {list-style: none; margin:0; padding: 0}\n",
       "\t.list-inline>li {display: inline-block}\n",
       "\t.list-inline>li:not(:last-child)::after {content: \"\\00b7\"; padding: 0 .5ex}\n",
       "\t</style>\n",
       "\t<ol class=list-inline><li>'Abrantes'</li><li>'Acacias'</li><li>'Adelfas'</li><li>'Aeropuerto'</li><li>'Aguilas'</li><li>'Alameda de Osuna'</li><li>'Almagro'</li><li>'Almenara'</li><li>'Almendrales'</li><li>'Aluche'</li><li>'Ambroz'</li><li>'Amposta'</li><li>'Apostol Santiago'</li><li>'Arapiles'</li><li>'Aravaca'</li><li>'Arcos'</li><li>'Argüelles'</li><li>'Atocha'</li><li>'Bellas Vistas'</li><li>'Berruguete'</li><li>'Buenavista'</li><li>'Butarque'</li><li>'Campamento'</li><li>'Canillas'</li><li>'Canillejas'</li><li>'Cármenes'</li><li>'Casa de Campo'</li><li>'Casco Histórico de Barajas'</li><li>'Casco Histórico de Vallecas'</li><li>'Casco Histórico de Vicálvaro'</li><li>'Castellana'</li><li>'Castilla'</li><li>'Castillejos'</li><li>'Chopera'</li><li>'Ciudad Jardín'</li><li>'Ciudad Universitaria'</li><li>'Colina'</li><li>'Comillas'</li><li>'Concepción'</li><li>'Corralejos'</li><li>'Cortes'</li><li>'Costillares'</li><li>'Cuatro Caminos'</li><li>'Cuatro Vientos'</li><li>'Delicias'</li><li>'El Goloso'</li><li>'El Plantío'</li><li>'El Viso'</li><li>'Embajadores'</li><li>'Entrevías'</li><li>'Estrella'</li><li>'Fontarrón'</li><li>'Fuente del Berro'</li><li>'Fuentelareina'</li><li>'Gaztambide'</li><li>'Goya'</li><li>'Guindalera'</li><li>'Hellín'</li><li>'Hispanoamérica'</li><li>'Ibiza'</li><li>'Imperial'</li><li>'Jerónimos'</li><li>'Justicia'</li><li>'La Paz'</li><li>'Legazpi'</li><li>'Lista'</li><li>'Los Angeles'</li><li>'Los Rosales'</li><li>'Lucero'</li><li>'Marroquina'</li><li>'Media Legua'</li><li>'Mirasierra'</li><li>'Moscardó'</li><li>'Niño Jesús'</li><li>'Nueva España'</li><li>'Numancia'</li><li>'Opañel'</li><li>'Orcasitas'</li><li>'Orcasur'</li><li>'Pacífico'</li><li>'Palacio'</li><li>'Palomas'</li><li>'Palomeras Bajas'</li><li>'Palomeras Sureste'</li><li>'Palos de Moguer'</li><li>'Pavones'</li><li>'Peñagrande'</li><li>'Pilar'</li><li>'Pinar del Rey'</li><li>'Piovera'</li><li>'Portazgo'</li><li>'Pradolongo'</li><li>'Prosperidad'</li><li>'Pueblo Nuevo'</li><li>'Puerta Bonita'</li><li>'Puerta del Angel'</li><li>'Quintana'</li><li>'Recoletos'</li><li>'Rejas'</li><li>'Rios Rosas'</li><li>'Rosas'</li><li>'Salvador'</li><li>'San Andrés'</li><li>'San Cristobal'</li><li>'San Diego'</li><li>'San Fermín'</li><li>'San Isidro'</li><li>'San Juan Bautista'</li><li>'San Pascual'</li><li>'Santa Eugenia'</li><li>'Simancas'</li><li>'Sol'</li><li>'Timón'</li><li>'Trafalgar'</li><li>'Universidad'</li><li>'Valdeacederas'</li><li>'Valdefuentes'</li><li>'Valdemarín'</li><li>'Valdezarza'</li><li>'Vallehermoso'</li><li>'Valverde'</li><li>'Ventas'</li><li>'Vinateros'</li><li>'Vista Alegre'</li><li>'Zofío'</li></ol>\n",
       "</details>"
      ],
      "text/latex": [
       "\\begin{enumerate*}\n",
       "\\item Sol\n",
       "\\item Acacias\n",
       "\\item Palos de Moguer\n",
       "\\item Embajadores\n",
       "\\item Cortes\n",
       "\\item Palacio\n",
       "\\item Universidad\n",
       "\\item Delicias\n",
       "\\item Arapiles\n",
       "\\item Atocha\n",
       "\\item Goya\n",
       "\\end{enumerate*}\n",
       "\n",
       "\\emph{Levels}: \\begin{enumerate*}\n",
       "\\item 'Abrantes'\n",
       "\\item 'Acacias'\n",
       "\\item 'Adelfas'\n",
       "\\item 'Aeropuerto'\n",
       "\\item 'Aguilas'\n",
       "\\item 'Alameda de Osuna'\n",
       "\\item 'Almagro'\n",
       "\\item 'Almenara'\n",
       "\\item 'Almendrales'\n",
       "\\item 'Aluche'\n",
       "\\item 'Ambroz'\n",
       "\\item 'Amposta'\n",
       "\\item 'Apostol Santiago'\n",
       "\\item 'Arapiles'\n",
       "\\item 'Aravaca'\n",
       "\\item 'Arcos'\n",
       "\\item 'Argüelles'\n",
       "\\item 'Atocha'\n",
       "\\item 'Bellas Vistas'\n",
       "\\item 'Berruguete'\n",
       "\\item 'Buenavista'\n",
       "\\item 'Butarque'\n",
       "\\item 'Campamento'\n",
       "\\item 'Canillas'\n",
       "\\item 'Canillejas'\n",
       "\\item 'Cármenes'\n",
       "\\item 'Casa de Campo'\n",
       "\\item 'Casco Histórico de Barajas'\n",
       "\\item 'Casco Histórico de Vallecas'\n",
       "\\item 'Casco Histórico de Vicálvaro'\n",
       "\\item 'Castellana'\n",
       "\\item 'Castilla'\n",
       "\\item 'Castillejos'\n",
       "\\item 'Chopera'\n",
       "\\item 'Ciudad Jardín'\n",
       "\\item 'Ciudad Universitaria'\n",
       "\\item 'Colina'\n",
       "\\item 'Comillas'\n",
       "\\item 'Concepción'\n",
       "\\item 'Corralejos'\n",
       "\\item 'Cortes'\n",
       "\\item 'Costillares'\n",
       "\\item 'Cuatro Caminos'\n",
       "\\item 'Cuatro Vientos'\n",
       "\\item 'Delicias'\n",
       "\\item 'El Goloso'\n",
       "\\item 'El Plantío'\n",
       "\\item 'El Viso'\n",
       "\\item 'Embajadores'\n",
       "\\item 'Entrevías'\n",
       "\\item 'Estrella'\n",
       "\\item 'Fontarrón'\n",
       "\\item 'Fuente del Berro'\n",
       "\\item 'Fuentelareina'\n",
       "\\item 'Gaztambide'\n",
       "\\item 'Goya'\n",
       "\\item 'Guindalera'\n",
       "\\item 'Hellín'\n",
       "\\item 'Hispanoamérica'\n",
       "\\item 'Ibiza'\n",
       "\\item 'Imperial'\n",
       "\\item 'Jerónimos'\n",
       "\\item 'Justicia'\n",
       "\\item 'La Paz'\n",
       "\\item 'Legazpi'\n",
       "\\item 'Lista'\n",
       "\\item 'Los Angeles'\n",
       "\\item 'Los Rosales'\n",
       "\\item 'Lucero'\n",
       "\\item 'Marroquina'\n",
       "\\item 'Media Legua'\n",
       "\\item 'Mirasierra'\n",
       "\\item 'Moscardó'\n",
       "\\item 'Niño Jesús'\n",
       "\\item 'Nueva España'\n",
       "\\item 'Numancia'\n",
       "\\item 'Opañel'\n",
       "\\item 'Orcasitas'\n",
       "\\item 'Orcasur'\n",
       "\\item 'Pacífico'\n",
       "\\item 'Palacio'\n",
       "\\item 'Palomas'\n",
       "\\item 'Palomeras Bajas'\n",
       "\\item 'Palomeras Sureste'\n",
       "\\item 'Palos de Moguer'\n",
       "\\item 'Pavones'\n",
       "\\item 'Peñagrande'\n",
       "\\item 'Pilar'\n",
       "\\item 'Pinar del Rey'\n",
       "\\item 'Piovera'\n",
       "\\item 'Portazgo'\n",
       "\\item 'Pradolongo'\n",
       "\\item 'Prosperidad'\n",
       "\\item 'Pueblo Nuevo'\n",
       "\\item 'Puerta Bonita'\n",
       "\\item 'Puerta del Angel'\n",
       "\\item 'Quintana'\n",
       "\\item 'Recoletos'\n",
       "\\item 'Rejas'\n",
       "\\item 'Rios Rosas'\n",
       "\\item 'Rosas'\n",
       "\\item 'Salvador'\n",
       "\\item 'San Andrés'\n",
       "\\item 'San Cristobal'\n",
       "\\item 'San Diego'\n",
       "\\item 'San Fermín'\n",
       "\\item 'San Isidro'\n",
       "\\item 'San Juan Bautista'\n",
       "\\item 'San Pascual'\n",
       "\\item 'Santa Eugenia'\n",
       "\\item 'Simancas'\n",
       "\\item 'Sol'\n",
       "\\item 'Timón'\n",
       "\\item 'Trafalgar'\n",
       "\\item 'Universidad'\n",
       "\\item 'Valdeacederas'\n",
       "\\item 'Valdefuentes'\n",
       "\\item 'Valdemarín'\n",
       "\\item 'Valdezarza'\n",
       "\\item 'Vallehermoso'\n",
       "\\item 'Valverde'\n",
       "\\item 'Ventas'\n",
       "\\item 'Vinateros'\n",
       "\\item 'Vista Alegre'\n",
       "\\item 'Zofío'\n",
       "\\end{enumerate*}\n"
      ],
      "text/markdown": [
       "1. Sol\n",
       "2. Acacias\n",
       "3. Palos de Moguer\n",
       "4. Embajadores\n",
       "5. Cortes\n",
       "6. Palacio\n",
       "7. Universidad\n",
       "8. Delicias\n",
       "9. Arapiles\n",
       "10. Atocha\n",
       "11. Goya\n",
       "\n",
       "\n",
       "\n",
       "**Levels**: 1. 'Abrantes'\n",
       "2. 'Acacias'\n",
       "3. 'Adelfas'\n",
       "4. 'Aeropuerto'\n",
       "5. 'Aguilas'\n",
       "6. 'Alameda de Osuna'\n",
       "7. 'Almagro'\n",
       "8. 'Almenara'\n",
       "9. 'Almendrales'\n",
       "10. 'Aluche'\n",
       "11. 'Ambroz'\n",
       "12. 'Amposta'\n",
       "13. 'Apostol Santiago'\n",
       "14. 'Arapiles'\n",
       "15. 'Aravaca'\n",
       "16. 'Arcos'\n",
       "17. 'Argüelles'\n",
       "18. 'Atocha'\n",
       "19. 'Bellas Vistas'\n",
       "20. 'Berruguete'\n",
       "21. 'Buenavista'\n",
       "22. 'Butarque'\n",
       "23. 'Campamento'\n",
       "24. 'Canillas'\n",
       "25. 'Canillejas'\n",
       "26. 'Cármenes'\n",
       "27. 'Casa de Campo'\n",
       "28. 'Casco Histórico de Barajas'\n",
       "29. 'Casco Histórico de Vallecas'\n",
       "30. 'Casco Histórico de Vicálvaro'\n",
       "31. 'Castellana'\n",
       "32. 'Castilla'\n",
       "33. 'Castillejos'\n",
       "34. 'Chopera'\n",
       "35. 'Ciudad Jardín'\n",
       "36. 'Ciudad Universitaria'\n",
       "37. 'Colina'\n",
       "38. 'Comillas'\n",
       "39. 'Concepción'\n",
       "40. 'Corralejos'\n",
       "41. 'Cortes'\n",
       "42. 'Costillares'\n",
       "43. 'Cuatro Caminos'\n",
       "44. 'Cuatro Vientos'\n",
       "45. 'Delicias'\n",
       "46. 'El Goloso'\n",
       "47. 'El Plantío'\n",
       "48. 'El Viso'\n",
       "49. 'Embajadores'\n",
       "50. 'Entrevías'\n",
       "51. 'Estrella'\n",
       "52. 'Fontarrón'\n",
       "53. 'Fuente del Berro'\n",
       "54. 'Fuentelareina'\n",
       "55. 'Gaztambide'\n",
       "56. 'Goya'\n",
       "57. 'Guindalera'\n",
       "58. 'Hellín'\n",
       "59. 'Hispanoamérica'\n",
       "60. 'Ibiza'\n",
       "61. 'Imperial'\n",
       "62. 'Jerónimos'\n",
       "63. 'Justicia'\n",
       "64. 'La Paz'\n",
       "65. 'Legazpi'\n",
       "66. 'Lista'\n",
       "67. 'Los Angeles'\n",
       "68. 'Los Rosales'\n",
       "69. 'Lucero'\n",
       "70. 'Marroquina'\n",
       "71. 'Media Legua'\n",
       "72. 'Mirasierra'\n",
       "73. 'Moscardó'\n",
       "74. 'Niño Jesús'\n",
       "75. 'Nueva España'\n",
       "76. 'Numancia'\n",
       "77. 'Opañel'\n",
       "78. 'Orcasitas'\n",
       "79. 'Orcasur'\n",
       "80. 'Pacífico'\n",
       "81. 'Palacio'\n",
       "82. 'Palomas'\n",
       "83. 'Palomeras Bajas'\n",
       "84. 'Palomeras Sureste'\n",
       "85. 'Palos de Moguer'\n",
       "86. 'Pavones'\n",
       "87. 'Peñagrande'\n",
       "88. 'Pilar'\n",
       "89. 'Pinar del Rey'\n",
       "90. 'Piovera'\n",
       "91. 'Portazgo'\n",
       "92. 'Pradolongo'\n",
       "93. 'Prosperidad'\n",
       "94. 'Pueblo Nuevo'\n",
       "95. 'Puerta Bonita'\n",
       "96. 'Puerta del Angel'\n",
       "97. 'Quintana'\n",
       "98. 'Recoletos'\n",
       "99. 'Rejas'\n",
       "100. 'Rios Rosas'\n",
       "101. 'Rosas'\n",
       "102. 'Salvador'\n",
       "103. 'San Andrés'\n",
       "104. 'San Cristobal'\n",
       "105. 'San Diego'\n",
       "106. 'San Fermín'\n",
       "107. 'San Isidro'\n",
       "108. 'San Juan Bautista'\n",
       "109. 'San Pascual'\n",
       "110. 'Santa Eugenia'\n",
       "111. 'Simancas'\n",
       "112. 'Sol'\n",
       "113. 'Timón'\n",
       "114. 'Trafalgar'\n",
       "115. 'Universidad'\n",
       "116. 'Valdeacederas'\n",
       "117. 'Valdefuentes'\n",
       "118. 'Valdemarín'\n",
       "119. 'Valdezarza'\n",
       "120. 'Vallehermoso'\n",
       "121. 'Valverde'\n",
       "122. 'Ventas'\n",
       "123. 'Vinateros'\n",
       "124. 'Vista Alegre'\n",
       "125. 'Zofío'\n",
       "\n",
       "\n"
      ],
      "text/plain": [
       " [1] Sol             Acacias         Palos de Moguer Embajadores    \n",
       " [5] Cortes          Palacio         Universidad     Delicias       \n",
       " [9] Arapiles        Atocha          Goya           \n",
       "125 Levels: Abrantes Acacias Adelfas Aeropuerto Aguilas ... Zofío"
      ]
     },
     "metadata": {},
     "output_type": "display_data"
    }
   ],
   "source": [
    "temp1 <-subset(airbnb, CodigoPostal=='28012')\n",
    "unique(temp1$Barrio)"
   ]
  },
  {
   "cell_type": "markdown",
   "metadata": {},
   "source": [
    "¿Cuantas entradas hay en cada uno de esos barrios para el codigo postal 28012?"
   ]
  },
  {
   "cell_type": "code",
   "execution_count": 11,
   "metadata": {},
   "outputs": [
    {
     "data": {
      "text/html": [
       "<table class=\"dataframe\">\n",
       "<caption>A data.frame: 11 × 2</caption>\n",
       "<thead>\n",
       "\t<tr><th></th><th scope=col>Var1</th><th scope=col>Freq</th></tr>\n",
       "\t<tr><th></th><th scope=col>&lt;fct&gt;</th><th scope=col>&lt;int&gt;</th></tr>\n",
       "</thead>\n",
       "<tbody>\n",
       "\t<tr><th scope=row>2</th><td>Acacias        </td><td>  13</td></tr>\n",
       "\t<tr><th scope=row>14</th><td>Arapiles       </td><td>   1</td></tr>\n",
       "\t<tr><th scope=row>18</th><td>Atocha         </td><td>   1</td></tr>\n",
       "\t<tr><th scope=row>41</th><td>Cortes         </td><td> 216</td></tr>\n",
       "\t<tr><th scope=row>45</th><td>Delicias       </td><td>   1</td></tr>\n",
       "\t<tr><th scope=row>49</th><td>Embajadores    </td><td>1449</td></tr>\n",
       "\t<tr><th scope=row>56</th><td>Goya           </td><td>   1</td></tr>\n",
       "\t<tr><th scope=row>81</th><td>Palacio        </td><td>  27</td></tr>\n",
       "\t<tr><th scope=row>85</th><td>Palos de Moguer</td><td>  46</td></tr>\n",
       "\t<tr><th scope=row>112</th><td>Sol            </td><td> 301</td></tr>\n",
       "\t<tr><th scope=row>115</th><td>Universidad    </td><td>   4</td></tr>\n",
       "</tbody>\n",
       "</table>\n"
      ],
      "text/latex": [
       "A data.frame: 11 × 2\n",
       "\\begin{tabular}{r|ll}\n",
       "  & Var1 & Freq\\\\\n",
       "  & <fct> & <int>\\\\\n",
       "\\hline\n",
       "\t2 & Acacias         &   13\\\\\n",
       "\t14 & Arapiles        &    1\\\\\n",
       "\t18 & Atocha          &    1\\\\\n",
       "\t41 & Cortes          &  216\\\\\n",
       "\t45 & Delicias        &    1\\\\\n",
       "\t49 & Embajadores     & 1449\\\\\n",
       "\t56 & Goya            &    1\\\\\n",
       "\t81 & Palacio         &   27\\\\\n",
       "\t85 & Palos de Moguer &   46\\\\\n",
       "\t112 & Sol             &  301\\\\\n",
       "\t115 & Universidad     &    4\\\\\n",
       "\\end{tabular}\n"
      ],
      "text/markdown": [
       "\n",
       "A data.frame: 11 × 2\n",
       "\n",
       "| <!--/--> | Var1 &lt;fct&gt; | Freq &lt;int&gt; |\n",
       "|---|---|---|\n",
       "| 2 | Acacias         |   13 |\n",
       "| 14 | Arapiles        |    1 |\n",
       "| 18 | Atocha          |    1 |\n",
       "| 41 | Cortes          |  216 |\n",
       "| 45 | Delicias        |    1 |\n",
       "| 49 | Embajadores     | 1449 |\n",
       "| 56 | Goya            |    1 |\n",
       "| 81 | Palacio         |   27 |\n",
       "| 85 | Palos de Moguer |   46 |\n",
       "| 112 | Sol             |  301 |\n",
       "| 115 | Universidad     |    4 |\n",
       "\n"
      ],
      "text/plain": [
       "    Var1            Freq\n",
       "2   Acacias           13\n",
       "14  Arapiles           1\n",
       "18  Atocha             1\n",
       "41  Cortes           216\n",
       "45  Delicias           1\n",
       "49  Embajadores     1449\n",
       "56  Goya               1\n",
       "81  Palacio           27\n",
       "85  Palos de Moguer   46\n",
       "112 Sol              301\n",
       "115 Universidad        4"
      ]
     },
     "metadata": {},
     "output_type": "display_data"
    }
   ],
   "source": [
    "entradasBarrios<-data.frame(table(temp1$Barrio))\n",
    "entradasBarrios <-subset(entradasBarrios, entradasBarrios$Freq > 0)\n",
    "entradasBarrios"
   ]
  },
  {
   "cell_type": "markdown",
   "metadata": {},
   "source": [
    "¿Cuantos barrios hay en todo el dataset airbnb? ¿Cuales son?"
   ]
  },
  {
   "cell_type": "code",
   "execution_count": 12,
   "metadata": {},
   "outputs": [
    {
     "data": {
      "text/html": [
       "13207"
      ],
      "text/latex": [
       "13207"
      ],
      "text/markdown": [
       "13207"
      ],
      "text/plain": [
       "[1] 13207"
      ]
     },
     "metadata": {},
     "output_type": "display_data"
    }
   ],
   "source": [
    "sum(table(na.omit(airbnb$Barrio))) #total barrios"
   ]
  },
  {
   "cell_type": "code",
   "execution_count": 13,
   "metadata": {
    "scrolled": true
   },
   "outputs": [
    {
     "data": {
      "text/html": [
       "<style>\n",
       ".list-inline {list-style: none; margin:0; padding: 0}\n",
       ".list-inline>li {display: inline-block}\n",
       ".list-inline>li:not(:last-child)::after {content: \"\\00b7\"; padding: 0 .5ex}\n",
       "</style>\n",
       "<ol class=list-inline><li>Universidad</li><li>Sol</li><li>Imperial</li><li>Acacias</li><li>Chopera</li><li>Delicias</li><li>Palos de Moguer</li><li>Embajadores</li><li>Cortes</li><li>Atocha</li><li>Pacífico</li><li>Adelfas</li><li>Estrella</li><li>Ibiza</li><li>Jerónimos</li><li>Niño Jesús</li><li>Palacio</li><li>Justicia</li><li>Recoletos</li><li>Goya</li><li>Fuente del Berro</li><li>Arapiles</li><li>Trafalgar</li><li>Almagro</li><li>Guindalera</li><li>Lista</li><li>Castellana</li><li>El Viso</li><li>Prosperidad</li><li>Valverde</li><li>Casa de Campo</li><li>El Goloso</li><li>Numancia</li><li>Cármenes</li><li>Puerta del Angel</li><li>Lucero</li><li>Aluche</li><li>San Isidro</li><li>Campamento</li><li>Comillas</li><li>Opañel</li><li>Vista Alegre</li><li>Ciudad Jardín</li><li>Hispanoamérica</li><li>Nueva España</li><li>Castilla</li><li>Bellas Vistas</li><li>Cuatro Caminos</li><li>Castillejos</li><li>Vallehermoso</li><li>Almenara</li><li>Valdeacederas</li><li>Berruguete</li><li>Gaztambide</li><li>Rios Rosas</li><li>Peñagrande</li><li>Argüelles</li><li>Puerta Bonita</li><li>Buenavista</li><li>Abrantes</li><li>Orcasur</li><li>San Fermín</li><li>Almendrales</li><li>Pradolongo</li><li>Portazgo</li><li>Entrevías</li><li>San Diego</li><li>Palomeras Bajas</li><li>Fontarrón</li><li>Vinateros</li><li>Ventas</li><li>Pueblo Nuevo</li><li>Quintana</li><li>Concepción</li><li>San Juan Bautista</li><li>Costillares</li><li>Piovera</li><li>Canillas</li><li>Pinar del Rey</li><li>Apostol Santiago</li><li>San Andrés</li><li>Valdefuentes</li><li>Butarque</li><li>Los Angeles</li><li>Casco Histórico de Vicálvaro</li><li>Simancas</li><li>Rejas</li><li>Salvador</li><li>Casco Histórico de Barajas</li><li>Pilar</li><li>La Paz</li><li>Mirasierra</li><li>Ciudad Universitaria</li><li>Moscardó</li><li>Palomeras Sureste</li><li>Marroquina</li><li>Media Legua</li><li>Los Rosales</li><li>Casco Histórico de Vallecas</li><li>Timón</li><li>Corralejos</li><li>Cuatro Vientos</li><li>Colina</li><li>San Cristobal</li><li>Alameda de Osuna</li><li>Aeropuerto</li><li>Palomas</li><li>Zofío</li><li>Aguilas</li><li>Legazpi</li><li>Fuentelareina</li><li>Aravaca</li><li>Ambroz</li><li>Canillejas</li><li>Valdezarza</li><li>Amposta</li><li>San Pascual</li><li>Santa Eugenia</li><li>Arcos</li><li>Rosas</li><li>Valdemarín</li><li>El Plantío</li><li>Hellín</li><li>Pavones</li><li>Orcasitas</li></ol>\n",
       "\n",
       "<details>\n",
       "\t<summary style=display:list-item;cursor:pointer>\n",
       "\t\t<strong>Levels</strong>:\n",
       "\t</summary>\n",
       "\t<style>\n",
       "\t.list-inline {list-style: none; margin:0; padding: 0}\n",
       "\t.list-inline>li {display: inline-block}\n",
       "\t.list-inline>li:not(:last-child)::after {content: \"\\00b7\"; padding: 0 .5ex}\n",
       "\t</style>\n",
       "\t<ol class=list-inline><li>'Abrantes'</li><li>'Acacias'</li><li>'Adelfas'</li><li>'Aeropuerto'</li><li>'Aguilas'</li><li>'Alameda de Osuna'</li><li>'Almagro'</li><li>'Almenara'</li><li>'Almendrales'</li><li>'Aluche'</li><li>'Ambroz'</li><li>'Amposta'</li><li>'Apostol Santiago'</li><li>'Arapiles'</li><li>'Aravaca'</li><li>'Arcos'</li><li>'Argüelles'</li><li>'Atocha'</li><li>'Bellas Vistas'</li><li>'Berruguete'</li><li>'Buenavista'</li><li>'Butarque'</li><li>'Campamento'</li><li>'Canillas'</li><li>'Canillejas'</li><li>'Cármenes'</li><li>'Casa de Campo'</li><li>'Casco Histórico de Barajas'</li><li>'Casco Histórico de Vallecas'</li><li>'Casco Histórico de Vicálvaro'</li><li>'Castellana'</li><li>'Castilla'</li><li>'Castillejos'</li><li>'Chopera'</li><li>'Ciudad Jardín'</li><li>'Ciudad Universitaria'</li><li>'Colina'</li><li>'Comillas'</li><li>'Concepción'</li><li>'Corralejos'</li><li>'Cortes'</li><li>'Costillares'</li><li>'Cuatro Caminos'</li><li>'Cuatro Vientos'</li><li>'Delicias'</li><li>'El Goloso'</li><li>'El Plantío'</li><li>'El Viso'</li><li>'Embajadores'</li><li>'Entrevías'</li><li>'Estrella'</li><li>'Fontarrón'</li><li>'Fuente del Berro'</li><li>'Fuentelareina'</li><li>'Gaztambide'</li><li>'Goya'</li><li>'Guindalera'</li><li>'Hellín'</li><li>'Hispanoamérica'</li><li>'Ibiza'</li><li>'Imperial'</li><li>'Jerónimos'</li><li>'Justicia'</li><li>'La Paz'</li><li>'Legazpi'</li><li>'Lista'</li><li>'Los Angeles'</li><li>'Los Rosales'</li><li>'Lucero'</li><li>'Marroquina'</li><li>'Media Legua'</li><li>'Mirasierra'</li><li>'Moscardó'</li><li>'Niño Jesús'</li><li>'Nueva España'</li><li>'Numancia'</li><li>'Opañel'</li><li>'Orcasitas'</li><li>'Orcasur'</li><li>'Pacífico'</li><li>'Palacio'</li><li>'Palomas'</li><li>'Palomeras Bajas'</li><li>'Palomeras Sureste'</li><li>'Palos de Moguer'</li><li>'Pavones'</li><li>'Peñagrande'</li><li>'Pilar'</li><li>'Pinar del Rey'</li><li>'Piovera'</li><li>'Portazgo'</li><li>'Pradolongo'</li><li>'Prosperidad'</li><li>'Pueblo Nuevo'</li><li>'Puerta Bonita'</li><li>'Puerta del Angel'</li><li>'Quintana'</li><li>'Recoletos'</li><li>'Rejas'</li><li>'Rios Rosas'</li><li>'Rosas'</li><li>'Salvador'</li><li>'San Andrés'</li><li>'San Cristobal'</li><li>'San Diego'</li><li>'San Fermín'</li><li>'San Isidro'</li><li>'San Juan Bautista'</li><li>'San Pascual'</li><li>'Santa Eugenia'</li><li>'Simancas'</li><li>'Sol'</li><li>'Timón'</li><li>'Trafalgar'</li><li>'Universidad'</li><li>'Valdeacederas'</li><li>'Valdefuentes'</li><li>'Valdemarín'</li><li>'Valdezarza'</li><li>'Vallehermoso'</li><li>'Valverde'</li><li>'Ventas'</li><li>'Vinateros'</li><li>'Vista Alegre'</li><li>'Zofío'</li></ol>\n",
       "</details>"
      ],
      "text/latex": [
       "\\begin{enumerate*}\n",
       "\\item Universidad\n",
       "\\item Sol\n",
       "\\item Imperial\n",
       "\\item Acacias\n",
       "\\item Chopera\n",
       "\\item Delicias\n",
       "\\item Palos de Moguer\n",
       "\\item Embajadores\n",
       "\\item Cortes\n",
       "\\item Atocha\n",
       "\\item Pacífico\n",
       "\\item Adelfas\n",
       "\\item Estrella\n",
       "\\item Ibiza\n",
       "\\item Jerónimos\n",
       "\\item Niño Jesús\n",
       "\\item Palacio\n",
       "\\item Justicia\n",
       "\\item Recoletos\n",
       "\\item Goya\n",
       "\\item Fuente del Berro\n",
       "\\item Arapiles\n",
       "\\item Trafalgar\n",
       "\\item Almagro\n",
       "\\item Guindalera\n",
       "\\item Lista\n",
       "\\item Castellana\n",
       "\\item El Viso\n",
       "\\item Prosperidad\n",
       "\\item Valverde\n",
       "\\item Casa de Campo\n",
       "\\item El Goloso\n",
       "\\item Numancia\n",
       "\\item Cármenes\n",
       "\\item Puerta del Angel\n",
       "\\item Lucero\n",
       "\\item Aluche\n",
       "\\item San Isidro\n",
       "\\item Campamento\n",
       "\\item Comillas\n",
       "\\item Opañel\n",
       "\\item Vista Alegre\n",
       "\\item Ciudad Jardín\n",
       "\\item Hispanoamérica\n",
       "\\item Nueva España\n",
       "\\item Castilla\n",
       "\\item Bellas Vistas\n",
       "\\item Cuatro Caminos\n",
       "\\item Castillejos\n",
       "\\item Vallehermoso\n",
       "\\item Almenara\n",
       "\\item Valdeacederas\n",
       "\\item Berruguete\n",
       "\\item Gaztambide\n",
       "\\item Rios Rosas\n",
       "\\item Peñagrande\n",
       "\\item Argüelles\n",
       "\\item Puerta Bonita\n",
       "\\item Buenavista\n",
       "\\item Abrantes\n",
       "\\item Orcasur\n",
       "\\item San Fermín\n",
       "\\item Almendrales\n",
       "\\item Pradolongo\n",
       "\\item Portazgo\n",
       "\\item Entrevías\n",
       "\\item San Diego\n",
       "\\item Palomeras Bajas\n",
       "\\item Fontarrón\n",
       "\\item Vinateros\n",
       "\\item Ventas\n",
       "\\item Pueblo Nuevo\n",
       "\\item Quintana\n",
       "\\item Concepción\n",
       "\\item San Juan Bautista\n",
       "\\item Costillares\n",
       "\\item Piovera\n",
       "\\item Canillas\n",
       "\\item Pinar del Rey\n",
       "\\item Apostol Santiago\n",
       "\\item San Andrés\n",
       "\\item Valdefuentes\n",
       "\\item Butarque\n",
       "\\item Los Angeles\n",
       "\\item Casco Histórico de Vicálvaro\n",
       "\\item Simancas\n",
       "\\item Rejas\n",
       "\\item Salvador\n",
       "\\item Casco Histórico de Barajas\n",
       "\\item Pilar\n",
       "\\item La Paz\n",
       "\\item Mirasierra\n",
       "\\item Ciudad Universitaria\n",
       "\\item Moscardó\n",
       "\\item Palomeras Sureste\n",
       "\\item Marroquina\n",
       "\\item Media Legua\n",
       "\\item Los Rosales\n",
       "\\item Casco Histórico de Vallecas\n",
       "\\item Timón\n",
       "\\item Corralejos\n",
       "\\item Cuatro Vientos\n",
       "\\item Colina\n",
       "\\item San Cristobal\n",
       "\\item Alameda de Osuna\n",
       "\\item Aeropuerto\n",
       "\\item Palomas\n",
       "\\item Zofío\n",
       "\\item Aguilas\n",
       "\\item Legazpi\n",
       "\\item Fuentelareina\n",
       "\\item Aravaca\n",
       "\\item Ambroz\n",
       "\\item Canillejas\n",
       "\\item Valdezarza\n",
       "\\item Amposta\n",
       "\\item San Pascual\n",
       "\\item Santa Eugenia\n",
       "\\item Arcos\n",
       "\\item Rosas\n",
       "\\item Valdemarín\n",
       "\\item El Plantío\n",
       "\\item Hellín\n",
       "\\item Pavones\n",
       "\\item Orcasitas\n",
       "\\end{enumerate*}\n",
       "\n",
       "\\emph{Levels}: \\begin{enumerate*}\n",
       "\\item 'Abrantes'\n",
       "\\item 'Acacias'\n",
       "\\item 'Adelfas'\n",
       "\\item 'Aeropuerto'\n",
       "\\item 'Aguilas'\n",
       "\\item 'Alameda de Osuna'\n",
       "\\item 'Almagro'\n",
       "\\item 'Almenara'\n",
       "\\item 'Almendrales'\n",
       "\\item 'Aluche'\n",
       "\\item 'Ambroz'\n",
       "\\item 'Amposta'\n",
       "\\item 'Apostol Santiago'\n",
       "\\item 'Arapiles'\n",
       "\\item 'Aravaca'\n",
       "\\item 'Arcos'\n",
       "\\item 'Argüelles'\n",
       "\\item 'Atocha'\n",
       "\\item 'Bellas Vistas'\n",
       "\\item 'Berruguete'\n",
       "\\item 'Buenavista'\n",
       "\\item 'Butarque'\n",
       "\\item 'Campamento'\n",
       "\\item 'Canillas'\n",
       "\\item 'Canillejas'\n",
       "\\item 'Cármenes'\n",
       "\\item 'Casa de Campo'\n",
       "\\item 'Casco Histórico de Barajas'\n",
       "\\item 'Casco Histórico de Vallecas'\n",
       "\\item 'Casco Histórico de Vicálvaro'\n",
       "\\item 'Castellana'\n",
       "\\item 'Castilla'\n",
       "\\item 'Castillejos'\n",
       "\\item 'Chopera'\n",
       "\\item 'Ciudad Jardín'\n",
       "\\item 'Ciudad Universitaria'\n",
       "\\item 'Colina'\n",
       "\\item 'Comillas'\n",
       "\\item 'Concepción'\n",
       "\\item 'Corralejos'\n",
       "\\item 'Cortes'\n",
       "\\item 'Costillares'\n",
       "\\item 'Cuatro Caminos'\n",
       "\\item 'Cuatro Vientos'\n",
       "\\item 'Delicias'\n",
       "\\item 'El Goloso'\n",
       "\\item 'El Plantío'\n",
       "\\item 'El Viso'\n",
       "\\item 'Embajadores'\n",
       "\\item 'Entrevías'\n",
       "\\item 'Estrella'\n",
       "\\item 'Fontarrón'\n",
       "\\item 'Fuente del Berro'\n",
       "\\item 'Fuentelareina'\n",
       "\\item 'Gaztambide'\n",
       "\\item 'Goya'\n",
       "\\item 'Guindalera'\n",
       "\\item 'Hellín'\n",
       "\\item 'Hispanoamérica'\n",
       "\\item 'Ibiza'\n",
       "\\item 'Imperial'\n",
       "\\item 'Jerónimos'\n",
       "\\item 'Justicia'\n",
       "\\item 'La Paz'\n",
       "\\item 'Legazpi'\n",
       "\\item 'Lista'\n",
       "\\item 'Los Angeles'\n",
       "\\item 'Los Rosales'\n",
       "\\item 'Lucero'\n",
       "\\item 'Marroquina'\n",
       "\\item 'Media Legua'\n",
       "\\item 'Mirasierra'\n",
       "\\item 'Moscardó'\n",
       "\\item 'Niño Jesús'\n",
       "\\item 'Nueva España'\n",
       "\\item 'Numancia'\n",
       "\\item 'Opañel'\n",
       "\\item 'Orcasitas'\n",
       "\\item 'Orcasur'\n",
       "\\item 'Pacífico'\n",
       "\\item 'Palacio'\n",
       "\\item 'Palomas'\n",
       "\\item 'Palomeras Bajas'\n",
       "\\item 'Palomeras Sureste'\n",
       "\\item 'Palos de Moguer'\n",
       "\\item 'Pavones'\n",
       "\\item 'Peñagrande'\n",
       "\\item 'Pilar'\n",
       "\\item 'Pinar del Rey'\n",
       "\\item 'Piovera'\n",
       "\\item 'Portazgo'\n",
       "\\item 'Pradolongo'\n",
       "\\item 'Prosperidad'\n",
       "\\item 'Pueblo Nuevo'\n",
       "\\item 'Puerta Bonita'\n",
       "\\item 'Puerta del Angel'\n",
       "\\item 'Quintana'\n",
       "\\item 'Recoletos'\n",
       "\\item 'Rejas'\n",
       "\\item 'Rios Rosas'\n",
       "\\item 'Rosas'\n",
       "\\item 'Salvador'\n",
       "\\item 'San Andrés'\n",
       "\\item 'San Cristobal'\n",
       "\\item 'San Diego'\n",
       "\\item 'San Fermín'\n",
       "\\item 'San Isidro'\n",
       "\\item 'San Juan Bautista'\n",
       "\\item 'San Pascual'\n",
       "\\item 'Santa Eugenia'\n",
       "\\item 'Simancas'\n",
       "\\item 'Sol'\n",
       "\\item 'Timón'\n",
       "\\item 'Trafalgar'\n",
       "\\item 'Universidad'\n",
       "\\item 'Valdeacederas'\n",
       "\\item 'Valdefuentes'\n",
       "\\item 'Valdemarín'\n",
       "\\item 'Valdezarza'\n",
       "\\item 'Vallehermoso'\n",
       "\\item 'Valverde'\n",
       "\\item 'Ventas'\n",
       "\\item 'Vinateros'\n",
       "\\item 'Vista Alegre'\n",
       "\\item 'Zofío'\n",
       "\\end{enumerate*}\n"
      ],
      "text/markdown": [
       "1. Universidad\n",
       "2. Sol\n",
       "3. Imperial\n",
       "4. Acacias\n",
       "5. Chopera\n",
       "6. Delicias\n",
       "7. Palos de Moguer\n",
       "8. Embajadores\n",
       "9. Cortes\n",
       "10. Atocha\n",
       "11. Pacífico\n",
       "12. Adelfas\n",
       "13. Estrella\n",
       "14. Ibiza\n",
       "15. Jerónimos\n",
       "16. Niño Jesús\n",
       "17. Palacio\n",
       "18. Justicia\n",
       "19. Recoletos\n",
       "20. Goya\n",
       "21. Fuente del Berro\n",
       "22. Arapiles\n",
       "23. Trafalgar\n",
       "24. Almagro\n",
       "25. Guindalera\n",
       "26. Lista\n",
       "27. Castellana\n",
       "28. El Viso\n",
       "29. Prosperidad\n",
       "30. Valverde\n",
       "31. Casa de Campo\n",
       "32. El Goloso\n",
       "33. Numancia\n",
       "34. Cármenes\n",
       "35. Puerta del Angel\n",
       "36. Lucero\n",
       "37. Aluche\n",
       "38. San Isidro\n",
       "39. Campamento\n",
       "40. Comillas\n",
       "41. Opañel\n",
       "42. Vista Alegre\n",
       "43. Ciudad Jardín\n",
       "44. Hispanoamérica\n",
       "45. Nueva España\n",
       "46. Castilla\n",
       "47. Bellas Vistas\n",
       "48. Cuatro Caminos\n",
       "49. Castillejos\n",
       "50. Vallehermoso\n",
       "51. Almenara\n",
       "52. Valdeacederas\n",
       "53. Berruguete\n",
       "54. Gaztambide\n",
       "55. Rios Rosas\n",
       "56. Peñagrande\n",
       "57. Argüelles\n",
       "58. Puerta Bonita\n",
       "59. Buenavista\n",
       "60. Abrantes\n",
       "61. Orcasur\n",
       "62. San Fermín\n",
       "63. Almendrales\n",
       "64. Pradolongo\n",
       "65. Portazgo\n",
       "66. Entrevías\n",
       "67. San Diego\n",
       "68. Palomeras Bajas\n",
       "69. Fontarrón\n",
       "70. Vinateros\n",
       "71. Ventas\n",
       "72. Pueblo Nuevo\n",
       "73. Quintana\n",
       "74. Concepción\n",
       "75. San Juan Bautista\n",
       "76. Costillares\n",
       "77. Piovera\n",
       "78. Canillas\n",
       "79. Pinar del Rey\n",
       "80. Apostol Santiago\n",
       "81. San Andrés\n",
       "82. Valdefuentes\n",
       "83. Butarque\n",
       "84. Los Angeles\n",
       "85. Casco Histórico de Vicálvaro\n",
       "86. Simancas\n",
       "87. Rejas\n",
       "88. Salvador\n",
       "89. Casco Histórico de Barajas\n",
       "90. Pilar\n",
       "91. La Paz\n",
       "92. Mirasierra\n",
       "93. Ciudad Universitaria\n",
       "94. Moscardó\n",
       "95. Palomeras Sureste\n",
       "96. Marroquina\n",
       "97. Media Legua\n",
       "98. Los Rosales\n",
       "99. Casco Histórico de Vallecas\n",
       "100. Timón\n",
       "101. Corralejos\n",
       "102. Cuatro Vientos\n",
       "103. Colina\n",
       "104. San Cristobal\n",
       "105. Alameda de Osuna\n",
       "106. Aeropuerto\n",
       "107. Palomas\n",
       "108. Zofío\n",
       "109. Aguilas\n",
       "110. Legazpi\n",
       "111. Fuentelareina\n",
       "112. Aravaca\n",
       "113. Ambroz\n",
       "114. Canillejas\n",
       "115. Valdezarza\n",
       "116. Amposta\n",
       "117. San Pascual\n",
       "118. Santa Eugenia\n",
       "119. Arcos\n",
       "120. Rosas\n",
       "121. Valdemarín\n",
       "122. El Plantío\n",
       "123. Hellín\n",
       "124. Pavones\n",
       "125. Orcasitas\n",
       "\n",
       "\n",
       "\n",
       "**Levels**: 1. 'Abrantes'\n",
       "2. 'Acacias'\n",
       "3. 'Adelfas'\n",
       "4. 'Aeropuerto'\n",
       "5. 'Aguilas'\n",
       "6. 'Alameda de Osuna'\n",
       "7. 'Almagro'\n",
       "8. 'Almenara'\n",
       "9. 'Almendrales'\n",
       "10. 'Aluche'\n",
       "11. 'Ambroz'\n",
       "12. 'Amposta'\n",
       "13. 'Apostol Santiago'\n",
       "14. 'Arapiles'\n",
       "15. 'Aravaca'\n",
       "16. 'Arcos'\n",
       "17. 'Argüelles'\n",
       "18. 'Atocha'\n",
       "19. 'Bellas Vistas'\n",
       "20. 'Berruguete'\n",
       "21. 'Buenavista'\n",
       "22. 'Butarque'\n",
       "23. 'Campamento'\n",
       "24. 'Canillas'\n",
       "25. 'Canillejas'\n",
       "26. 'Cármenes'\n",
       "27. 'Casa de Campo'\n",
       "28. 'Casco Histórico de Barajas'\n",
       "29. 'Casco Histórico de Vallecas'\n",
       "30. 'Casco Histórico de Vicálvaro'\n",
       "31. 'Castellana'\n",
       "32. 'Castilla'\n",
       "33. 'Castillejos'\n",
       "34. 'Chopera'\n",
       "35. 'Ciudad Jardín'\n",
       "36. 'Ciudad Universitaria'\n",
       "37. 'Colina'\n",
       "38. 'Comillas'\n",
       "39. 'Concepción'\n",
       "40. 'Corralejos'\n",
       "41. 'Cortes'\n",
       "42. 'Costillares'\n",
       "43. 'Cuatro Caminos'\n",
       "44. 'Cuatro Vientos'\n",
       "45. 'Delicias'\n",
       "46. 'El Goloso'\n",
       "47. 'El Plantío'\n",
       "48. 'El Viso'\n",
       "49. 'Embajadores'\n",
       "50. 'Entrevías'\n",
       "51. 'Estrella'\n",
       "52. 'Fontarrón'\n",
       "53. 'Fuente del Berro'\n",
       "54. 'Fuentelareina'\n",
       "55. 'Gaztambide'\n",
       "56. 'Goya'\n",
       "57. 'Guindalera'\n",
       "58. 'Hellín'\n",
       "59. 'Hispanoamérica'\n",
       "60. 'Ibiza'\n",
       "61. 'Imperial'\n",
       "62. 'Jerónimos'\n",
       "63. 'Justicia'\n",
       "64. 'La Paz'\n",
       "65. 'Legazpi'\n",
       "66. 'Lista'\n",
       "67. 'Los Angeles'\n",
       "68. 'Los Rosales'\n",
       "69. 'Lucero'\n",
       "70. 'Marroquina'\n",
       "71. 'Media Legua'\n",
       "72. 'Mirasierra'\n",
       "73. 'Moscardó'\n",
       "74. 'Niño Jesús'\n",
       "75. 'Nueva España'\n",
       "76. 'Numancia'\n",
       "77. 'Opañel'\n",
       "78. 'Orcasitas'\n",
       "79. 'Orcasur'\n",
       "80. 'Pacífico'\n",
       "81. 'Palacio'\n",
       "82. 'Palomas'\n",
       "83. 'Palomeras Bajas'\n",
       "84. 'Palomeras Sureste'\n",
       "85. 'Palos de Moguer'\n",
       "86. 'Pavones'\n",
       "87. 'Peñagrande'\n",
       "88. 'Pilar'\n",
       "89. 'Pinar del Rey'\n",
       "90. 'Piovera'\n",
       "91. 'Portazgo'\n",
       "92. 'Pradolongo'\n",
       "93. 'Prosperidad'\n",
       "94. 'Pueblo Nuevo'\n",
       "95. 'Puerta Bonita'\n",
       "96. 'Puerta del Angel'\n",
       "97. 'Quintana'\n",
       "98. 'Recoletos'\n",
       "99. 'Rejas'\n",
       "100. 'Rios Rosas'\n",
       "101. 'Rosas'\n",
       "102. 'Salvador'\n",
       "103. 'San Andrés'\n",
       "104. 'San Cristobal'\n",
       "105. 'San Diego'\n",
       "106. 'San Fermín'\n",
       "107. 'San Isidro'\n",
       "108. 'San Juan Bautista'\n",
       "109. 'San Pascual'\n",
       "110. 'Santa Eugenia'\n",
       "111. 'Simancas'\n",
       "112. 'Sol'\n",
       "113. 'Timón'\n",
       "114. 'Trafalgar'\n",
       "115. 'Universidad'\n",
       "116. 'Valdeacederas'\n",
       "117. 'Valdefuentes'\n",
       "118. 'Valdemarín'\n",
       "119. 'Valdezarza'\n",
       "120. 'Vallehermoso'\n",
       "121. 'Valverde'\n",
       "122. 'Ventas'\n",
       "123. 'Vinateros'\n",
       "124. 'Vista Alegre'\n",
       "125. 'Zofío'\n",
       "\n",
       "\n"
      ],
      "text/plain": [
       "  [1] Universidad                  Sol                         \n",
       "  [3] Imperial                     Acacias                     \n",
       "  [5] Chopera                      Delicias                    \n",
       "  [7] Palos de Moguer              Embajadores                 \n",
       "  [9] Cortes                       Atocha                      \n",
       " [11] Pacífico                     Adelfas                     \n",
       " [13] Estrella                     Ibiza                       \n",
       " [15] Jerónimos                    Niño Jesús                  \n",
       " [17] Palacio                      Justicia                    \n",
       " [19] Recoletos                    Goya                        \n",
       " [21] Fuente del Berro             Arapiles                    \n",
       " [23] Trafalgar                    Almagro                     \n",
       " [25] Guindalera                   Lista                       \n",
       " [27] Castellana                   El Viso                     \n",
       " [29] Prosperidad                  Valverde                    \n",
       " [31] Casa de Campo                El Goloso                   \n",
       " [33] Numancia                     Cármenes                    \n",
       " [35] Puerta del Angel             Lucero                      \n",
       " [37] Aluche                       San Isidro                  \n",
       " [39] Campamento                   Comillas                    \n",
       " [41] Opañel                       Vista Alegre                \n",
       " [43] Ciudad Jardín                Hispanoamérica              \n",
       " [45] Nueva España                 Castilla                    \n",
       " [47] Bellas Vistas                Cuatro Caminos              \n",
       " [49] Castillejos                  Vallehermoso                \n",
       " [51] Almenara                     Valdeacederas               \n",
       " [53] Berruguete                   Gaztambide                  \n",
       " [55] Rios Rosas                   Peñagrande                  \n",
       " [57] Argüelles                    Puerta Bonita               \n",
       " [59] Buenavista                   Abrantes                    \n",
       " [61] Orcasur                      San Fermín                  \n",
       " [63] Almendrales                  Pradolongo                  \n",
       " [65] Portazgo                     Entrevías                   \n",
       " [67] San Diego                    Palomeras Bajas             \n",
       " [69] Fontarrón                    Vinateros                   \n",
       " [71] Ventas                       Pueblo Nuevo                \n",
       " [73] Quintana                     Concepción                  \n",
       " [75] San Juan Bautista            Costillares                 \n",
       " [77] Piovera                      Canillas                    \n",
       " [79] Pinar del Rey                Apostol Santiago            \n",
       " [81] San Andrés                   Valdefuentes                \n",
       " [83] Butarque                     Los Angeles                 \n",
       " [85] Casco Histórico de Vicálvaro Simancas                    \n",
       " [87] Rejas                        Salvador                    \n",
       " [89] Casco Histórico de Barajas   Pilar                       \n",
       " [91] La Paz                       Mirasierra                  \n",
       " [93] Ciudad Universitaria         Moscardó                    \n",
       " [95] Palomeras Sureste            Marroquina                  \n",
       " [97] Media Legua                  Los Rosales                 \n",
       " [99] Casco Histórico de Vallecas  Timón                       \n",
       "[101] Corralejos                   Cuatro Vientos              \n",
       "[103] Colina                       San Cristobal               \n",
       "[105] Alameda de Osuna             Aeropuerto                  \n",
       "[107] Palomas                      Zofío                       \n",
       "[109] Aguilas                      Legazpi                     \n",
       "[111] Fuentelareina                Aravaca                     \n",
       "[113] Ambroz                       Canillejas                  \n",
       "[115] Valdezarza                   Amposta                     \n",
       "[117] San Pascual                  Santa Eugenia               \n",
       "[119] Arcos                        Rosas                       \n",
       "[121] Valdemarín                   El Plantío                  \n",
       "[123] Hellín                       Pavones                     \n",
       "[125] Orcasitas                   \n",
       "125 Levels: Abrantes Acacias Adelfas Aeropuerto Aguilas ... Zofío"
      ]
     },
     "metadata": {},
     "output_type": "display_data"
    }
   ],
   "source": [
    "na.omit(unique(airbnb$Barrio))   #barrios existentes"
   ]
  },
  {
   "cell_type": "markdown",
   "metadata": {},
   "source": [
    "¿Cuales son los 5 barrios que tienen mayor número entradas?"
   ]
  },
  {
   "cell_type": "code",
   "execution_count": 14,
   "metadata": {},
   "outputs": [
    {
     "data": {
      "text/plain": [
       "\n",
       "Embajadores Universidad     Palacio         Sol    Justicia \n",
       "       1844        1358        1083         940         785 "
      ]
     },
     "metadata": {},
     "output_type": "display_data"
    }
   ],
   "source": [
    "barrioTop5<-table(airbnb$Barrio)\n",
    "barrioTop5<-sort(barrioTop5,decreasing  = TRUE)\n",
    "barrioTop5[1:5]"
   ]
  },
  {
   "cell_type": "markdown",
   "metadata": {},
   "source": [
    "¿Cuantos Tipos de Alquiler diferentes hay? ¿Cuales son? ¿Cuantas entradas en el dataframe hay por cada tipo?"
   ]
  },
  {
   "cell_type": "code",
   "execution_count": 15,
   "metadata": {},
   "outputs": [
    {
     "data": {
      "text/html": [
       "3"
      ],
      "text/latex": [
       "3"
      ],
      "text/markdown": [
       "3"
      ],
      "text/plain": [
       "[1] 3"
      ]
     },
     "metadata": {},
     "output_type": "display_data"
    }
   ],
   "source": [
    "length(unique(airbnb$TipoAlquiler))"
   ]
  },
  {
   "cell_type": "code",
   "execution_count": 16,
   "metadata": {},
   "outputs": [
    {
     "data": {
      "text/html": [
       "<style>\n",
       ".list-inline {list-style: none; margin:0; padding: 0}\n",
       ".list-inline>li {display: inline-block}\n",
       ".list-inline>li:not(:last-child)::after {content: \"\\00b7\"; padding: 0 .5ex}\n",
       "</style>\n",
       "<ol class=list-inline><li>Private room</li><li>Entire home/apt</li><li>Shared room</li></ol>\n",
       "\n",
       "<details>\n",
       "\t<summary style=display:list-item;cursor:pointer>\n",
       "\t\t<strong>Levels</strong>:\n",
       "\t</summary>\n",
       "\t<style>\n",
       "\t.list-inline {list-style: none; margin:0; padding: 0}\n",
       "\t.list-inline>li {display: inline-block}\n",
       "\t.list-inline>li:not(:last-child)::after {content: \"\\00b7\"; padding: 0 .5ex}\n",
       "\t</style>\n",
       "\t<ol class=list-inline><li>'Entire home/apt'</li><li>'Private room'</li><li>'Shared room'</li></ol>\n",
       "</details>"
      ],
      "text/latex": [
       "\\begin{enumerate*}\n",
       "\\item Private room\n",
       "\\item Entire home/apt\n",
       "\\item Shared room\n",
       "\\end{enumerate*}\n",
       "\n",
       "\\emph{Levels}: \\begin{enumerate*}\n",
       "\\item 'Entire home/apt'\n",
       "\\item 'Private room'\n",
       "\\item 'Shared room'\n",
       "\\end{enumerate*}\n"
      ],
      "text/markdown": [
       "1. Private room\n",
       "2. Entire home/apt\n",
       "3. Shared room\n",
       "\n",
       "\n",
       "\n",
       "**Levels**: 1. 'Entire home/apt'\n",
       "2. 'Private room'\n",
       "3. 'Shared room'\n",
       "\n",
       "\n"
      ],
      "text/plain": [
       "[1] Private room    Entire home/apt Shared room    \n",
       "Levels: Entire home/apt Private room Shared room"
      ]
     },
     "metadata": {},
     "output_type": "display_data"
    }
   ],
   "source": [
    "unique(airbnb$TipoAlquiler)  # tipos de alquiler"
   ]
  },
  {
   "cell_type": "code",
   "execution_count": 17,
   "metadata": {},
   "outputs": [
    {
     "data": {
      "text/plain": [
       "\n",
       "Entire home/apt    Private room     Shared room \n",
       "           7903            5113             191 "
      ]
     },
     "metadata": {},
     "output_type": "display_data"
    }
   ],
   "source": [
    "table(airbnb$TipoAlquiler)   # nº entradas por tipo"
   ]
  },
  {
   "cell_type": "markdown",
   "metadata": {},
   "source": [
    "Muestra el diagrama de cajas del precio para cada uno de los diferentes Tipos de Alquiler"
   ]
  },
  {
   "cell_type": "code",
   "execution_count": 18,
   "metadata": {},
   "outputs": [
    {
     "name": "stderr",
     "output_type": "stream",
     "text": [
      "Warning message:\n",
      "“Removed 9 rows containing non-finite values (stat_boxplot).”\n"
     ]
    },
    {
     "data": {
      "image/png": "[encoded data removed]",
      "text/plain": [
       "plot without title"
      ]
     },
     "metadata": {
      "image/png": {
       "height": 600,
       "width": 600
      }
     },
     "output_type": "display_data"
    }
   ],
   "source": [
    "airbnb$Precio<- as.numeric(airbnb$Precio)\n",
    "options(repr.plot.height=10,repr.plot.width=10)\n",
    "ggplot(data=airbnb,aes(x=TipoAlquiler, y=Precio,color=TipoAlquiler))+geom_boxplot()"
   ]
  },
  {
   "cell_type": "markdown",
   "metadata": {},
   "source": [
    "Cual es el precio medio de alquiler de cada uno, la diferencia que hay ¿es estadísticamente significativa?\n",
    "¿Con que test lo comprobarías?"
   ]
  },
  {
   "cell_type": "code",
   "execution_count": 19,
   "metadata": {},
   "outputs": [
    {
     "data": {
      "text/html": [
       "<table class=\"dataframe\">\n",
       "<caption>A data.frame: 3 × 2</caption>\n",
       "<thead>\n",
       "\t<tr><th scope=col>TipoAlquiler</th><th scope=col>Precio</th></tr>\n",
       "\t<tr><th scope=col>&lt;fct&gt;</th><th scope=col>&lt;dbl&gt;</th></tr>\n",
       "</thead>\n",
       "<tbody>\n",
       "\t<tr><td>Entire home/apt</td><td>87.29661</td></tr>\n",
       "\t<tr><td>Private room   </td><td>34.25514</td></tr>\n",
       "\t<tr><td>Shared room    </td><td>29.85340</td></tr>\n",
       "</tbody>\n",
       "</table>\n"
      ],
      "text/latex": [
       "A data.frame: 3 × 2\n",
       "\\begin{tabular}{ll}\n",
       " TipoAlquiler & Precio\\\\\n",
       " <fct> & <dbl>\\\\\n",
       "\\hline\n",
       "\t Entire home/apt & 87.29661\\\\\n",
       "\t Private room    & 34.25514\\\\\n",
       "\t Shared room     & 29.85340\\\\\n",
       "\\end{tabular}\n"
      ],
      "text/markdown": [
       "\n",
       "A data.frame: 3 × 2\n",
       "\n",
       "| TipoAlquiler &lt;fct&gt; | Precio &lt;dbl&gt; |\n",
       "|---|---|\n",
       "| Entire home/apt | 87.29661 |\n",
       "| Private room    | 34.25514 |\n",
       "| Shared room     | 29.85340 |\n",
       "\n"
      ],
      "text/plain": [
       "  TipoAlquiler    Precio  \n",
       "1 Entire home/apt 87.29661\n",
       "2 Private room    34.25514\n",
       "3 Shared room     29.85340"
      ]
     },
     "metadata": {},
     "output_type": "display_data"
    }
   ],
   "source": [
    "medias<-aggregate(Precio~TipoAlquiler,airbnb,mean,na.rm=TRUE) \n",
    "medias #precio medio por alquiler"
   ]
  },
  {
   "cell_type": "code",
   "execution_count": 20,
   "metadata": {},
   "outputs": [
    {
     "data": {
      "text/plain": [
       "\n",
       "\tShapiro-Wilk normality test\n",
       "\n",
       "data:  entireHome$Precio[1:5000]\n",
       "W = 0.64959, p-value < 2.2e-16\n"
      ]
     },
     "metadata": {},
     "output_type": "display_data"
    }
   ],
   "source": [
    "#Comprobar si es distribucion gaussiana\n",
    "entireHome <- airbnb[airbnb$TipoAlquiler == \"Entire home/apt\",]\n",
    "shapiro.test(entireHome$Precio[1:5000])  ##p-value es muy bajo,por lo que es una distribucion gaussiana"
   ]
  },
  {
   "cell_type": "code",
   "execution_count": 21,
   "metadata": {},
   "outputs": [
    {
     "data": {
      "text/plain": [
       "\n",
       "\tShapiro-Wilk normality test\n",
       "\n",
       "data:  privateRoom$Precio[1:5000]\n",
       "W = 0.38267, p-value < 2.2e-16\n"
      ]
     },
     "metadata": {},
     "output_type": "display_data"
    }
   ],
   "source": [
    "privateRoom <- airbnb[airbnb$TipoAlquiler == \"Private room\",]\n",
    "shapiro.test(privateRoom$Precio[1:5000])  ##p-value es muy bajo,por lo que es una distribucion gaussiana"
   ]
  },
  {
   "cell_type": "code",
   "execution_count": 22,
   "metadata": {},
   "outputs": [
    {
     "data": {
      "text/plain": [
       "\n",
       "\tShapiro-Wilk normality test\n",
       "\n",
       "data:  sharedRoom$Precio[1:5000]\n",
       "W = 0.4436, p-value < 2.2e-16\n"
      ]
     },
     "metadata": {},
     "output_type": "display_data"
    }
   ],
   "source": [
    "sharedRoom <- airbnb[airbnb$TipoAlquiler == \"Shared room\",]\n",
    "shapiro.test(sharedRoom$Precio[1:5000])  ##p-value es muy bajo,por lo que es una distribucion gaussiana"
   ]
  },
  {
   "cell_type": "code",
   "execution_count": 23,
   "metadata": {},
   "outputs": [
    {
     "data": {
      "text/plain": [
       "                Df   Sum Sq Mean Sq F value Pr(>F)    \n",
       "TipoAlquiler     2  8981217 4490608    1828 <2e-16 ***\n",
       "Residuals    13195 32417217    2457                   \n",
       "---\n",
       "Signif. codes:  0 ‘***’ 0.001 ‘**’ 0.01 ‘*’ 0.05 ‘.’ 0.1 ‘ ’ 1\n",
       "9 observations deleted due to missingness"
      ]
     },
     "metadata": {},
     "output_type": "display_data"
    }
   ],
   "source": [
    "#aplicamos test anova(por ser distribucion gaussiana)\n",
    "\n",
    "summary(aov( Precio ~ TipoAlquiler, data=airbnb))     #La diferencia Si es estadísticamente significativa, porque el p.value < 0.5"
   ]
  },
  {
   "cell_type": "markdown",
   "metadata": {},
   "source": [
    "Filtra el dataframe cuyos tipo de alquiler sea  'Entire home/apt' y guardalo en un dataframe llamado \n",
    "*airbnb_entire*.\n",
    "Estas serán las entradas que tienen un alquiler del piso completo."
   ]
  },
  {
   "cell_type": "code",
   "execution_count": 24,
   "metadata": {},
   "outputs": [],
   "source": [
    "airbnb_entire<-subset(airbnb, TipoAlquiler =='Entire home/apt')"
   ]
  },
  {
   "cell_type": "markdown",
   "metadata": {},
   "source": [
    "¿Cuales son los 5 barrios que tienen un mayor número de apartamentos enteros en alquiler?\n",
    "Nota: Mirar solo en airbnb_entire. A partir de este punto y hasta que se diga lo contrario partiremos de airbnb_entire."
   ]
  },
  {
   "cell_type": "code",
   "execution_count": 25,
   "metadata": {},
   "outputs": [
    {
     "data": {
      "text/html": [
       "<style>\n",
       ".list-inline {list-style: none; margin:0; padding: 0}\n",
       ".list-inline>li {display: inline-block}\n",
       ".list-inline>li:not(:last-child)::after {content: \"\\00b7\"; padding: 0 .5ex}\n",
       "</style>\n",
       "<ol class=list-inline><li>'Embajadores'</li><li>'Universidad'</li><li>'Palacio'</li><li>'Sol'</li><li>'Cortes'</li></ol>\n"
      ],
      "text/latex": [
       "\\begin{enumerate*}\n",
       "\\item 'Embajadores'\n",
       "\\item 'Universidad'\n",
       "\\item 'Palacio'\n",
       "\\item 'Sol'\n",
       "\\item 'Cortes'\n",
       "\\end{enumerate*}\n"
      ],
      "text/markdown": [
       "1. 'Embajadores'\n",
       "2. 'Universidad'\n",
       "3. 'Palacio'\n",
       "4. 'Sol'\n",
       "5. 'Cortes'\n",
       "\n",
       "\n"
      ],
      "text/plain": [
       "[1] \"Embajadores\" \"Universidad\" \"Palacio\"     \"Sol\"         \"Cortes\"     "
      ]
     },
     "metadata": {},
     "output_type": "display_data"
    }
   ],
   "source": [
    "barrioTop5entire<-table(airbnb_entire$Barrio)\n",
    "barrioTop5entire<-sort(barrioTop5entire,decreasing  = TRUE)\n",
    "names(barrioTop5entire[1:5])"
   ]
  },
  {
   "cell_type": "markdown",
   "metadata": {},
   "source": [
    "¿Cuales son los 5 barrios que tienen un mayor precio medio de alquiler para apartamentos enteros (es decir, del dataframe airbnb_entire)?\n",
    "\n",
    "¿Cual es su precio medio?\n",
    "\n",
    "Ayuda: Usa la función aggregate `aggregate(.~colname,df,mean,na.rm=TRUE)`"
   ]
  },
  {
   "cell_type": "code",
   "execution_count": 26,
   "metadata": {},
   "outputs": [],
   "source": [
    "airbnb_entire$Precio<- as.numeric(airbnb_entire$Precio)"
   ]
  },
  {
   "cell_type": "code",
   "execution_count": 27,
   "metadata": {},
   "outputs": [
    {
     "data": {
      "text/html": [
       "<table class=\"dataframe\">\n",
       "<caption>A data.frame: 5 × 2</caption>\n",
       "<thead>\n",
       "\t<tr><th></th><th scope=col>Barrio</th><th scope=col>PrecioMedio</th></tr>\n",
       "\t<tr><th></th><th scope=col>&lt;fct&gt;</th><th scope=col>&lt;dbl&gt;</th></tr>\n",
       "</thead>\n",
       "<tbody>\n",
       "\t<tr><th scope=row>77</th><td>Palomas      </td><td>309.7500</td></tr>\n",
       "\t<tr><th scope=row>50</th><td>Fuentelareina</td><td>180.0000</td></tr>\n",
       "\t<tr><th scope=row>93</th><td>Recoletos    </td><td>161.9254</td></tr>\n",
       "\t<tr><th scope=row>43</th><td>El Plantío   </td><td>150.0000</td></tr>\n",
       "\t<tr><th scope=row>30</th><td>Castellana   </td><td>141.3889</td></tr>\n",
       "</tbody>\n",
       "</table>\n"
      ],
      "text/latex": [
       "A data.frame: 5 × 2\n",
       "\\begin{tabular}{r|ll}\n",
       "  & Barrio & PrecioMedio\\\\\n",
       "  & <fct> & <dbl>\\\\\n",
       "\\hline\n",
       "\t77 & Palomas       & 309.7500\\\\\n",
       "\t50 & Fuentelareina & 180.0000\\\\\n",
       "\t93 & Recoletos     & 161.9254\\\\\n",
       "\t43 & El Plantío    & 150.0000\\\\\n",
       "\t30 & Castellana    & 141.3889\\\\\n",
       "\\end{tabular}\n"
      ],
      "text/markdown": [
       "\n",
       "A data.frame: 5 × 2\n",
       "\n",
       "| <!--/--> | Barrio &lt;fct&gt; | PrecioMedio &lt;dbl&gt; |\n",
       "|---|---|---|\n",
       "| 77 | Palomas       | 309.7500 |\n",
       "| 50 | Fuentelareina | 180.0000 |\n",
       "| 93 | Recoletos     | 161.9254 |\n",
       "| 43 | El Plantío    | 150.0000 |\n",
       "| 30 | Castellana    | 141.3889 |\n",
       "\n"
      ],
      "text/plain": [
       "   Barrio        PrecioMedio\n",
       "77 Palomas       309.7500   \n",
       "50 Fuentelareina 180.0000   \n",
       "93 Recoletos     161.9254   \n",
       "43 El Plantío    150.0000   \n",
       "30 Castellana    141.3889   "
      ]
     },
     "metadata": {},
     "output_type": "display_data"
    }
   ],
   "source": [
    "temp<-aggregate(Precio~Barrio,airbnb_entire,mean,na.rm=TRUE) \n",
    "barrioTop5Precioentire<-temp[with(temp, order(-temp$Precio)), ] \n",
    "names(barrioTop5Precioentire)[2] = \"PrecioMedio\"\n",
    "barrioTop5Precioentire[1:5,]"
   ]
  },
  {
   "cell_type": "markdown",
   "metadata": {},
   "source": [
    "¿Cuantos apartamentos hay en cada uno de esos barrios?\n",
    "\n",
    "Mostrar una dataframe con el nombre del barrio, el precio y el número de entradas.\n",
    "\n",
    "Ayuda: Podeis crear un nuevo dataframe con las columnas \"Barrio\" y \"Freq\" que contenga el número de entradas en cada barrio y hacer un merge con el dataframe del punto anterior."
   ]
  },
  {
   "cell_type": "code",
   "execution_count": 28,
   "metadata": {},
   "outputs": [
    {
     "data": {
      "text/html": [
       "<table class=\"dataframe\">\n",
       "<caption>A data.frame: 5 × 3</caption>\n",
       "<thead>\n",
       "\t<tr><th></th><th scope=col>Barrio</th><th scope=col>Freq</th><th scope=col>PrecioMedio</th></tr>\n",
       "\t<tr><th></th><th scope=col>&lt;fct&gt;</th><th scope=col>&lt;int&gt;</th><th scope=col>&lt;dbl&gt;</th></tr>\n",
       "</thead>\n",
       "<tbody>\n",
       "\t<tr><th scope=row>77</th><td>Palomas      </td><td>  2</td><td>309.7500</td></tr>\n",
       "\t<tr><th scope=row>50</th><td>Fuentelareina</td><td>  1</td><td>180.0000</td></tr>\n",
       "\t<tr><th scope=row>93</th><td>Recoletos    </td><td>122</td><td>161.9254</td></tr>\n",
       "\t<tr><th scope=row>43</th><td>El Plantío   </td><td>  0</td><td>150.0000</td></tr>\n",
       "\t<tr><th scope=row>30</th><td>Castellana   </td><td> 66</td><td>141.3889</td></tr>\n",
       "</tbody>\n",
       "</table>\n"
      ],
      "text/latex": [
       "A data.frame: 5 × 3\n",
       "\\begin{tabular}{r|lll}\n",
       "  & Barrio & Freq & PrecioMedio\\\\\n",
       "  & <fct> & <int> & <dbl>\\\\\n",
       "\\hline\n",
       "\t77 & Palomas       &   2 & 309.7500\\\\\n",
       "\t50 & Fuentelareina &   1 & 180.0000\\\\\n",
       "\t93 & Recoletos     & 122 & 161.9254\\\\\n",
       "\t43 & El Plantío    &   0 & 150.0000\\\\\n",
       "\t30 & Castellana    &  66 & 141.3889\\\\\n",
       "\\end{tabular}\n"
      ],
      "text/markdown": [
       "\n",
       "A data.frame: 5 × 3\n",
       "\n",
       "| <!--/--> | Barrio &lt;fct&gt; | Freq &lt;int&gt; | PrecioMedio &lt;dbl&gt; |\n",
       "|---|---|---|---|\n",
       "| 77 | Palomas       |   2 | 309.7500 |\n",
       "| 50 | Fuentelareina |   1 | 180.0000 |\n",
       "| 93 | Recoletos     | 122 | 161.9254 |\n",
       "| 43 | El Plantío    |   0 | 150.0000 |\n",
       "| 30 | Castellana    |  66 | 141.3889 |\n",
       "\n"
      ],
      "text/plain": [
       "   Barrio        Freq PrecioMedio\n",
       "77 Palomas         2  309.7500   \n",
       "50 Fuentelareina   1  180.0000   \n",
       "93 Recoletos     122  161.9254   \n",
       "43 El Plantío      0  150.0000   \n",
       "30 Castellana     66  141.3889   "
      ]
     },
     "metadata": {},
     "output_type": "display_data"
    }
   ],
   "source": [
    "barriosElegidos = barrioTop5Precioentire\n",
    "\n",
    "a<-airbnb_entire[airbnb_entire$TipoPropiedad==\"Apartment\",] \n",
    "b<-data.frame(table(a$Barrio))\n",
    "names(b)[1] = \"Barrio\"\n",
    "\n",
    "\n",
    "union<-merge(b, barriosElegidos, by = \"Barrio\")\n",
    "union<-union[with(union, order(-union$PrecioMedio)), ] \n",
    "union[1:5,]"
   ]
  },
  {
   "cell_type": "markdown",
   "metadata": {},
   "source": [
    "Partiendo del dataframe anterior, muestra los 5 barrios con mayor precio, pero que tengan más de 100 entradas de alquiler."
   ]
  },
  {
   "cell_type": "code",
   "execution_count": 29,
   "metadata": {},
   "outputs": [
    {
     "data": {
      "text/html": [
       "<table class=\"dataframe\">\n",
       "<caption>A data.frame: 5 × 3</caption>\n",
       "<thead>\n",
       "\t<tr><th></th><th scope=col>Barrio</th><th scope=col>Freq</th><th scope=col>PrecioMedio</th></tr>\n",
       "\t<tr><th></th><th scope=col>&lt;fct&gt;</th><th scope=col>&lt;int&gt;</th><th scope=col>&lt;dbl&gt;</th></tr>\n",
       "</thead>\n",
       "<tbody>\n",
       "\t<tr><th scope=row>93</th><td>Recoletos</td><td>122</td><td>161.92537</td></tr>\n",
       "\t<tr><th scope=row>52</th><td>Goya     </td><td>122</td><td>111.33803</td></tr>\n",
       "\t<tr><th scope=row>106</th><td>Sol      </td><td>648</td><td>100.75036</td></tr>\n",
       "\t<tr><th scope=row>108</th><td>Trafalgar</td><td>203</td><td> 98.57848</td></tr>\n",
       "\t<tr><th scope=row>59</th><td>Justicia </td><td>486</td><td> 98.25468</td></tr>\n",
       "</tbody>\n",
       "</table>\n"
      ],
      "text/latex": [
       "A data.frame: 5 × 3\n",
       "\\begin{tabular}{r|lll}\n",
       "  & Barrio & Freq & PrecioMedio\\\\\n",
       "  & <fct> & <int> & <dbl>\\\\\n",
       "\\hline\n",
       "\t93 & Recoletos & 122 & 161.92537\\\\\n",
       "\t52 & Goya      & 122 & 111.33803\\\\\n",
       "\t106 & Sol       & 648 & 100.75036\\\\\n",
       "\t108 & Trafalgar & 203 &  98.57848\\\\\n",
       "\t59 & Justicia  & 486 &  98.25468\\\\\n",
       "\\end{tabular}\n"
      ],
      "text/markdown": [
       "\n",
       "A data.frame: 5 × 3\n",
       "\n",
       "| <!--/--> | Barrio &lt;fct&gt; | Freq &lt;int&gt; | PrecioMedio &lt;dbl&gt; |\n",
       "|---|---|---|---|\n",
       "| 93 | Recoletos | 122 | 161.92537 |\n",
       "| 52 | Goya      | 122 | 111.33803 |\n",
       "| 106 | Sol       | 648 | 100.75036 |\n",
       "| 108 | Trafalgar | 203 |  98.57848 |\n",
       "| 59 | Justicia  | 486 |  98.25468 |\n",
       "\n"
      ],
      "text/plain": [
       "    Barrio    Freq PrecioMedio\n",
       "93  Recoletos 122  161.92537  \n",
       "52  Goya      122  111.33803  \n",
       "106 Sol       648  100.75036  \n",
       "108 Trafalgar 203   98.57848  \n",
       "59  Justicia  486   98.25468  "
      ]
     },
     "metadata": {},
     "output_type": "display_data"
    }
   ],
   "source": [
    "ordenados<-union[with(union, order(-union$PrecioMedio)), ] \n",
    "ordenados<-data.frame(ordenados)\n",
    "ordenados<-ordenados[ordenados$Freq> 100,]\n",
    "ordenados[1:5,]"
   ]
  },
  {
   "cell_type": "markdown",
   "metadata": {},
   "source": [
    "Dibuja el diagrama de densidad de distribución de los diferentes precios. Serían 5 gráficas, una por cada barrio."
   ]
  },
  {
   "cell_type": "code",
   "execution_count": 30,
   "metadata": {},
   "outputs": [
    {
     "name": "stderr",
     "output_type": "stream",
     "text": [
      "Warning message:\n",
      "“Removed 1 rows containing non-finite values (stat_density).”\n"
     ]
    },
    {
     "data": {
      "image/png": "[encoded data removed]",
      "text/plain": [
       "plot without title"
      ]
     },
     "metadata": {
      "image/png": {
       "height": 600,
       "width": 600
      }
     },
     "output_type": "display_data"
    },
    {
     "data": {
      "image/png": "[encoded data removed]",
      "text/plain": [
       "plot without title"
      ]
     },
     "metadata": {
      "image/png": {
       "height": 600,
       "width": 600
      }
     },
     "output_type": "display_data"
    },
    {
     "data": {
      "image/png": "[encoded data removed]",
      "text/plain": [
       "plot without title"
      ]
     },
     "metadata": {
      "image/png": {
       "height": 600,
       "width": 600
      }
     },
     "output_type": "display_data"
    },
    {
     "data": {
      "image/png": "[encoded data removed]",
      "text/plain": [
       "plot without title"
      ]
     },
     "metadata": {
      "image/png": {
       "height": 600,
       "width": 600
      }
     },
     "output_type": "display_data"
    },
    {
     "data": {
      "image/png": "[encoded data removed]",
      "text/plain": [
       "plot without title"
      ]
     },
     "metadata": {
      "image/png": {
       "height": 600,
       "width": 600
      }
     },
     "output_type": "display_data"
    }
   ],
   "source": [
    "library(ggplot2)\n",
    "\n",
    "g1<-airbnb_entire[airbnb_entire$Barrio == \"Recoletos\",]\n",
    "ggplot(data=g1, aes(x=Precio))+geom_density() + ggtitle (\"Barrio: Recoletos\")\n",
    "\n",
    "g2<-airbnb_entire[airbnb_entire$Barrio == \"Goya\",]\n",
    "ggplot(data=g2, aes(x=Precio))+geom_density()+ ggtitle (\"Barrio: Goya\")\n",
    "\n",
    "g3<-airbnb_entire[airbnb_entire$Barrio == \"Sol\",]\n",
    "ggplot(data=g3, aes(x=Precio))+geom_density()+ ggtitle (\"Barrio: Sol\")\n",
    "\n",
    "g4<-airbnb_entire[airbnb_entire$Barrio == \"Trafalgar\",]\n",
    "ggplot(data=g4, aes(x=Precio))+geom_density()+ ggtitle (\"Barrio: Trafalgar\")\n",
    "\n",
    "g5<-airbnb_entire[airbnb_entire$Barrio == \"Justicia\",]\n",
    "ggplot(data=g5, aes(x=Precio))+geom_density()+ ggtitle (\"Barrio: Justicia\")\n",
    "\n",
    "\n"
   ]
  },
  {
   "cell_type": "markdown",
   "metadata": {},
   "source": [
    "Calcula el tamaño medio, en metros cuadrados, para los 5 barrios anteriores y muestralo en el mismo dataframe junto con el precio y número de entradas"
   ]
  },
  {
   "cell_type": "code",
   "execution_count": 31,
   "metadata": {},
   "outputs": [
    {
     "data": {
      "text/html": [
       "<table class=\"dataframe\">\n",
       "<caption>A data.frame: 5 × 4</caption>\n",
       "<thead>\n",
       "\t<tr><th scope=col>Barrio</th><th scope=col>MetrosCuadrados</th><th scope=col>Freq</th><th scope=col>PrecioMedio</th></tr>\n",
       "\t<tr><th scope=col>&lt;fct&gt;</th><th scope=col>&lt;dbl&gt;</th><th scope=col>&lt;int&gt;</th><th scope=col>&lt;dbl&gt;</th></tr>\n",
       "</thead>\n",
       "<tbody>\n",
       "\t<tr><td>Goya     </td><td>51.68504</td><td>122</td><td>111.33803</td></tr>\n",
       "\t<tr><td>Justicia </td><td>28.52669</td><td>486</td><td> 98.25468</td></tr>\n",
       "\t<tr><td>Recoletos</td><td>26.66316</td><td>122</td><td>161.92537</td></tr>\n",
       "\t<tr><td>Sol      </td><td>45.61692</td><td>648</td><td>100.75036</td></tr>\n",
       "\t<tr><td>Trafalgar</td><td>29.30426</td><td>203</td><td> 98.57848</td></tr>\n",
       "</tbody>\n",
       "</table>\n"
      ],
      "text/latex": [
       "A data.frame: 5 × 4\n",
       "\\begin{tabular}{llll}\n",
       " Barrio & MetrosCuadrados & Freq & PrecioMedio\\\\\n",
       " <fct> & <dbl> & <int> & <dbl>\\\\\n",
       "\\hline\n",
       "\t Goya      & 51.68504 & 122 & 111.33803\\\\\n",
       "\t Justicia  & 28.52669 & 486 &  98.25468\\\\\n",
       "\t Recoletos & 26.66316 & 122 & 161.92537\\\\\n",
       "\t Sol       & 45.61692 & 648 & 100.75036\\\\\n",
       "\t Trafalgar & 29.30426 & 203 &  98.57848\\\\\n",
       "\\end{tabular}\n"
      ],
      "text/markdown": [
       "\n",
       "A data.frame: 5 × 4\n",
       "\n",
       "| Barrio &lt;fct&gt; | MetrosCuadrados &lt;dbl&gt; | Freq &lt;int&gt; | PrecioMedio &lt;dbl&gt; |\n",
       "|---|---|---|---|\n",
       "| Goya      | 51.68504 | 122 | 111.33803 |\n",
       "| Justicia  | 28.52669 | 486 |  98.25468 |\n",
       "| Recoletos | 26.66316 | 122 | 161.92537 |\n",
       "| Sol       | 45.61692 | 648 | 100.75036 |\n",
       "| Trafalgar | 29.30426 | 203 |  98.57848 |\n",
       "\n"
      ],
      "text/plain": [
       "  Barrio    MetrosCuadrados Freq PrecioMedio\n",
       "1 Goya      51.68504        122  111.33803  \n",
       "2 Justicia  28.52669        486   98.25468  \n",
       "3 Recoletos 26.66316        122  161.92537  \n",
       "4 Sol       45.61692        648  100.75036  \n",
       "5 Trafalgar 29.30426        203   98.57848  "
      ]
     },
     "metadata": {},
     "output_type": "display_data"
    }
   ],
   "source": [
    "airbnb_entire$MetrosCuadrados <- as.numeric(airbnb_entire$MetrosCuadrados)\n",
    "metrosBarrios<-aggregate(MetrosCuadrados~Barrio,airbnb_entire,mean,na.rm=TRUE) \n",
    "\n",
    "union2 <-merge(metrosBarrios,ordenados[1:5,],  by = \"Barrio\")\n",
    "union2"
   ]
  },
  {
   "cell_type": "markdown",
   "metadata": {},
   "source": [
    "Dibuja el diagrama de densidad de distribución de los diferentes tamaños de apartamentos. Serían 5 gráficas, una por cada barrio."
   ]
  },
  {
   "cell_type": "code",
   "execution_count": 32,
   "metadata": {},
   "outputs": [
    {
     "name": "stderr",
     "output_type": "stream",
     "text": [
      "Warning message:\n",
      "“Removed 132 rows containing non-finite values (stat_density).”\n",
      "Warning message:\n",
      "“Removed 139 rows containing non-finite values (stat_density).”\n"
     ]
    },
    {
     "data": {
      "image/png": "[encoded data removed]",
      "text/plain": [
       "plot without title"
      ]
     },
     "metadata": {
      "image/png": {
       "height": 600,
       "width": 600
      }
     },
     "output_type": "display_data"
    },
    {
     "name": "stderr",
     "output_type": "stream",
     "text": [
      "Warning message:\n",
      "“Removed 641 rows containing non-finite values (stat_density).”\n"
     ]
    },
    {
     "data": {
      "image/png": "[encoded data removed]",
      "text/plain": [
       "plot without title"
      ]
     },
     "metadata": {
      "image/png": {
       "height": 600,
       "width": 600
      }
     },
     "output_type": "display_data"
    },
    {
     "name": "stderr",
     "output_type": "stream",
     "text": [
      "Warning message:\n",
      "“Removed 216 rows containing non-finite values (stat_density).”\n"
     ]
    },
    {
     "data": {
      "image/png": "[encoded data removed]",
      "text/plain": [
       "plot without title"
      ]
     },
     "metadata": {
      "image/png": {
       "height": 600,
       "width": 600
      }
     },
     "output_type": "display_data"
    },
    {
     "name": "stderr",
     "output_type": "stream",
     "text": [
      "Warning message:\n",
      "“Removed 517 rows containing non-finite values (stat_density).”\n"
     ]
    },
    {
     "data": {
      "image/png": "[encoded data removed]",
      "text/plain": [
       "plot without title"
      ]
     },
     "metadata": {
      "image/png": {
       "height": 600,
       "width": 600
      }
     },
     "output_type": "display_data"
    },
    {
     "data": {
      "image/png": "[encoded data removed]",
      "text/plain": [
       "plot without title"
      ]
     },
     "metadata": {
      "image/png": {
       "height": 600,
       "width": 600
      }
     },
     "output_type": "display_data"
    }
   ],
   "source": [
    "\n",
    "g1<-airbnb_entire[airbnb_entire$Barrio == \"Recoletos\",]\n",
    "ggplot(data=g1, aes(x=MetrosCuadrados))+geom_density() + ggtitle (\"Barrio: Recoletos\")\n",
    "\n",
    "g2<-airbnb_entire[airbnb_entire$Barrio == \"Goya\",]\n",
    "ggplot(data=g2, aes(x=MetrosCuadrados))+geom_density()+ ggtitle (\"Barrio: Goya\")\n",
    "\n",
    "g3<-airbnb_entire[airbnb_entire$Barrio == \"Sol\",]\n",
    "ggplot(data=g3, aes(x=MetrosCuadrados))+geom_density()+ ggtitle (\"Barrio: Sol\")\n",
    "\n",
    "g4<-airbnb_entire[airbnb_entire$Barrio == \"Trafalgar\",]\n",
    "ggplot(data=g4, aes(x=MetrosCuadrados))+geom_density()+ ggtitle (\"Barrio: Trafalgar\")\n",
    "\n",
    "g5<-airbnb_entire[airbnb_entire$Barrio == \"Justicia\",]\n",
    "ggplot(data=g5, aes(x=MetrosCuadrados))+geom_density()+ ggtitle (\"Barrio: Justicia\")\n"
   ]
  },
  {
   "cell_type": "markdown",
   "metadata": {},
   "source": [
    "Esta claro que las medias de metros cuadrados de cada uno de estos 5 barrios parecen ser diferentes, pero ¿son estadísticamente diferentes?\n",
    "¿Que test habría que usar para comprobarlo?"
   ]
  },
  {
   "cell_type": "code",
   "execution_count": 33,
   "metadata": {},
   "outputs": [
    {
     "data": {
      "text/plain": [
       "\n",
       "\tShapiro-Wilk normality test\n",
       "\n",
       "data:  recoletos$MetrosCuadrados\n",
       "W = 0.75, p-value < 2.2e-16\n"
      ]
     },
     "metadata": {},
     "output_type": "display_data"
    }
   ],
   "source": [
    "#Comprobar si es distribucion gaussiana\n",
    "recoletos<-airbnb_entire[airbnb_entire$Barrio == \"Recoletos\",]\n",
    "shapiro.test(recoletos$MetrosCuadrados) "
   ]
  },
  {
   "cell_type": "code",
   "execution_count": 34,
   "metadata": {},
   "outputs": [
    {
     "data": {
      "text/plain": [
       "\n",
       "\tShapiro-Wilk normality test\n",
       "\n",
       "data:  sol$MetrosCuadrados\n",
       "W = 0.83089, p-value = 8.691e-07\n"
      ]
     },
     "metadata": {},
     "output_type": "display_data"
    }
   ],
   "source": [
    "sol<-airbnb_entire[airbnb_entire$Barrio == \"Sol\",]\n",
    "shapiro.test(sol$MetrosCuadrados)  "
   ]
  },
  {
   "cell_type": "code",
   "execution_count": 35,
   "metadata": {},
   "outputs": [
    {
     "data": {
      "text/plain": [
       "\n",
       "\tShapiro-Wilk normality test\n",
       "\n",
       "data:  goya$MetrosCuadrados\n",
       "W = 0.93813, p-value = 0.5199\n"
      ]
     },
     "metadata": {},
     "output_type": "display_data"
    }
   ],
   "source": [
    "goya<-airbnb_entire[airbnb_entire$Barrio == \"Goya\",]\n",
    "shapiro.test(goya$MetrosCuadrados)  ##p-value alto, no se considera distribucion  gaussiana (p-value >0.5)"
   ]
  },
  {
   "cell_type": "code",
   "execution_count": 36,
   "metadata": {},
   "outputs": [
    {
     "data": {
      "text/plain": [
       "\n",
       "\tShapiro-Wilk normality test\n",
       "\n",
       "data:  trafalgar$MetrosCuadrados\n",
       "W = 0.75023, p-value = 0.01276\n"
      ]
     },
     "metadata": {},
     "output_type": "display_data"
    }
   ],
   "source": [
    "trafalgar<-airbnb_entire[airbnb_entire$Barrio == \"Trafalgar\",]\n",
    "shapiro.test(trafalgar$MetrosCuadrados) "
   ]
  },
  {
   "cell_type": "code",
   "execution_count": 37,
   "metadata": {},
   "outputs": [
    {
     "data": {
      "text/plain": [
       "\n",
       "\tShapiro-Wilk normality test\n",
       "\n",
       "data:  justicia$MetrosCuadrados\n",
       "W = 0.76212, p-value = 0.0006419\n"
      ]
     },
     "metadata": {},
     "output_type": "display_data"
    }
   ],
   "source": [
    "justicia<-airbnb_entire[airbnb_entire$Barrio == \"Justicia\",]\n",
    "shapiro.test(justicia$MetrosCuadrados)  "
   ]
  },
  {
   "cell_type": "code",
   "execution_count": 38,
   "metadata": {},
   "outputs": [
    {
     "data": {
      "text/plain": [
       "\n",
       "\tShapiro-Wilk normality test\n",
       "\n",
       "data:  justicia$MetrosCuadrados\n",
       "W = 0.76212, p-value = 0.0006419\n"
      ]
     },
     "metadata": {},
     "output_type": "display_data"
    }
   ],
   "source": [
    "justicia<-airbnb_entire[airbnb_entire$Barrio == \"Justicia\",]\n",
    "shapiro.test(justicia$MetrosCuadrados)  "
   ]
  },
  {
   "cell_type": "code",
   "execution_count": 39,
   "metadata": {},
   "outputs": [
    {
     "data": {
      "text/plain": [
       "\n",
       "\tKruskal-Wallis rank sum test\n",
       "\n",
       "data:  Precio by MetrosCuadrados\n",
       "Kruskal-Wallis chi-squared = 152.26, df = 72, p-value = 1.087e-07\n"
      ]
     },
     "metadata": {},
     "output_type": "display_data"
    }
   ],
   "source": [
    "#aplicamos test Kruskal-Wallis (por no ser distribucion gaussiana)\n",
    "kruskal.test( Precio ~ MetrosCuadrados, data=airbnb_entire)\n",
    "#el p-value (1.087e-07) es realmente bajo, por lo que podemos decir que si son estadísticamente diferentes."
   ]
  },
  {
   "cell_type": "markdown",
   "metadata": {},
   "source": [
    "Para únicamente los pisos de alquiler en el barrio de Sol:\n",
    "\n",
    "``barrio_sol<-subset(airbnb_entire,Barrio==\"Sol\")``\n",
    "\n",
    "Calcular un modelo lineal que combine alguna de estas variables:\n",
    "* NumBanyos\n",
    "* NumDormitorios\n",
    "* MaxOcupantes\n",
    "* MetrosCuadrados"
   ]
  },
  {
   "cell_type": "code",
   "execution_count": 40,
   "metadata": {},
   "outputs": [],
   "source": [
    "barrio_sol<-subset(airbnb_entire,Barrio==\"Sol\")"
   ]
  },
  {
   "cell_type": "markdown",
   "metadata": {},
   "source": [
    "Primero calculamos la correlación para ver como se relacionan estas variables entre sí."
   ]
  },
  {
   "cell_type": "code",
   "execution_count": 41,
   "metadata": {},
   "outputs": [
    {
     "data": {
      "text/html": [
       "'Correlacion NumBanyos y NumDormitorios: 0.676190560725493'"
      ],
      "text/latex": [
       "'Correlacion NumBanyos y NumDormitorios: 0.676190560725493'"
      ],
      "text/markdown": [
       "'Correlacion NumBanyos y NumDormitorios: 0.676190560725493'"
      ],
      "text/plain": [
       "[1] \"Correlacion NumBanyos y NumDormitorios: 0.676190560725493\""
      ]
     },
     "metadata": {},
     "output_type": "display_data"
    },
    {
     "data": {
      "text/html": [
       "'Correlacion MaxOcupantes y MetrosCuadrados: 0.428623254666521'"
      ],
      "text/latex": [
       "'Correlacion MaxOcupantes y MetrosCuadrados: 0.428623254666521'"
      ],
      "text/markdown": [
       "'Correlacion MaxOcupantes y MetrosCuadrados: 0.428623254666521'"
      ],
      "text/plain": [
       "[1] \"Correlacion MaxOcupantes y MetrosCuadrados: 0.428623254666521\""
      ]
     },
     "metadata": {},
     "output_type": "display_data"
    },
    {
     "data": {
      "text/html": [
       "'Correlacion NumBanyos y MaxOcupantes: 0.657816206151622'"
      ],
      "text/latex": [
       "'Correlacion NumBanyos y MaxOcupantes: 0.657816206151622'"
      ],
      "text/markdown": [
       "'Correlacion NumBanyos y MaxOcupantes: 0.657816206151622'"
      ],
      "text/plain": [
       "[1] \"Correlacion NumBanyos y MaxOcupantes: 0.657816206151622\""
      ]
     },
     "metadata": {},
     "output_type": "display_data"
    },
    {
     "data": {
      "text/html": [
       "'Correlacion NumDormitorios y MetrosCuadrados: 0.568452076445061'"
      ],
      "text/latex": [
       "'Correlacion NumDormitorios y MetrosCuadrados: 0.568452076445061'"
      ],
      "text/markdown": [
       "'Correlacion NumDormitorios y MetrosCuadrados: 0.568452076445061'"
      ],
      "text/plain": [
       "[1] \"Correlacion NumDormitorios y MetrosCuadrados: 0.568452076445061\""
      ]
     },
     "metadata": {},
     "output_type": "display_data"
    },
    {
     "data": {
      "text/html": [
       "'Correlacion NumBanyos y MetrosCuadrados: 0.482054875848167'"
      ],
      "text/latex": [
       "'Correlacion NumBanyos y MetrosCuadrados: 0.482054875848167'"
      ],
      "text/markdown": [
       "'Correlacion NumBanyos y MetrosCuadrados: 0.482054875848167'"
      ],
      "text/plain": [
       "[1] \"Correlacion NumBanyos y MetrosCuadrados: 0.482054875848167\""
      ]
     },
     "metadata": {},
     "output_type": "display_data"
    }
   ],
   "source": [
    "paste(\"Correlacion NumBanyos y NumDormitorios:\",cor(barrio_sol$NumBanyos,barrio_sol$NumDormitorios))\n",
    "paste(\"Correlacion MaxOcupantes y MetrosCuadrados:\",cor(barrio_sol$MaxOcupantes,barrio_sol$MetrosCuadrados, use = \"complete.obs\"))\n",
    "paste(\"Correlacion NumBanyos y MaxOcupantes:\",cor(barrio_sol$NumBanyos,barrio_sol$MaxOcupantes))\n",
    "paste(\"Correlacion NumDormitorios y MetrosCuadrados:\",cor(barrio_sol$NumDormitorios,barrio_sol$MetrosCuadrados, use = \"complete.obs\"))\n",
    "paste(\"Correlacion NumBanyos y MetrosCuadrados:\",cor(barrio_sol$NumBanyos,barrio_sol$MetrosCuadrados, use = \"complete.obs\"))"
   ]
  },
  {
   "cell_type": "markdown",
   "metadata": {},
   "source": [
    "Se observa que la correlación entre el número de dormitorios y los metros cuadrados es sorprendentemente baja.\n",
    "¿Son de fiar esos números?\n",
    "\n",
    "Mediante un histograma o curvas de densidad podemos descartar números que notienen sentido en el dataframe barrio_sol,\n",
    "para tener una matriz de correlación que tenga mayor sentido.\n"
   ]
  },
  {
   "cell_type": "code",
   "execution_count": 42,
   "metadata": {},
   "outputs": [
    {
     "name": "stderr",
     "output_type": "stream",
     "text": [
      "Warning message:\n",
      "“Removed 641 rows containing non-finite values (stat_bin).”\n"
     ]
    },
    {
     "data": {
      "image/png": "[encoded data removed]",
      "text/plain": [
       "plot without title"
      ]
     },
     "metadata": {
      "image/png": {
       "height": 600,
       "width": 600
      }
     },
     "output_type": "display_data"
    }
   ],
   "source": [
    "#no son de fiar, porque hay pisos de menos de 20 m²(no corresponden a pisos enteros)\n",
    "ggplot(data=barrio_sol, aes(x=MetrosCuadrados)) +  geom_histogram(colour = 1, fill = \"white\",binwidth = 15) "
   ]
  },
  {
   "cell_type": "markdown",
   "metadata": {},
   "source": [
    "Una vez que hayamos filtrado los datos correspondientes calcular el valor o la combinación de valores que mejor nos permite obtener el precio de un inmueble."
   ]
  },
  {
   "cell_type": "code",
   "execution_count": 43,
   "metadata": {},
   "outputs": [],
   "source": [
    "barrio_sol<-barrio_sol[!is.na(barrio_sol$CodigoPostal),]"
   ]
  },
  {
   "cell_type": "code",
   "execution_count": 44,
   "metadata": {},
   "outputs": [],
   "source": [
    "barrio_sol<-barrio_sol[barrio_sol$MetrosCuadrados>20,]"
   ]
  },
  {
   "cell_type": "code",
   "execution_count": 45,
   "metadata": {},
   "outputs": [],
   "source": [
    "barrio_sol<-barrio_sol[!is.na(barrio_sol$CodigoPostal),]"
   ]
  },
  {
   "cell_type": "markdown",
   "metadata": {},
   "source": [
    "¿Que variable es más fiable para conocer el precio de un inmueble, el número de habitaciones o los metros cuadrados?"
   ]
  },
  {
   "cell_type": "code",
   "execution_count": 46,
   "metadata": {},
   "outputs": [
    {
     "data": {
      "text/plain": [
       "\n",
       "Call:\n",
       "lm(formula = Precio ~ NumDormitorios, data = barrio_sol)\n",
       "\n",
       "Residuals:\n",
       "    Min      1Q  Median      3Q     Max \n",
       "-96.132 -15.419  -4.091  17.852  54.868 \n",
       "\n",
       "Coefficients:\n",
       "               Estimate Std. Error t value Pr(>|t|)    \n",
       "(Intercept)      43.205      8.452   5.112 1.70e-05 ***\n",
       "NumDormitorios   40.385      3.998  10.101 3.62e-11 ***\n",
       "---\n",
       "Signif. codes:  0 ‘***’ 0.001 ‘**’ 0.01 ‘*’ 0.05 ‘.’ 0.1 ‘ ’ 1\n",
       "\n",
       "Residual standard error: 29.71 on 30 degrees of freedom\n",
       "Multiple R-squared:  0.7728,\tAdjusted R-squared:  0.7652 \n",
       "F-statistic:   102 on 1 and 30 DF,  p-value: 3.621e-11\n"
      ]
     },
     "metadata": {},
     "output_type": "display_data"
    }
   ],
   "source": [
    "lm(Precio ~ NumDormitorios, data = barrio_sol) |> summary()  "
   ]
  },
  {
   "cell_type": "code",
   "execution_count": 47,
   "metadata": {},
   "outputs": [
    {
     "data": {
      "text/plain": [
       "\n",
       "Call:\n",
       "lm(formula = Precio ~ MetrosCuadrados, data = barrio_sol)\n",
       "\n",
       "Residuals:\n",
       "    Min      1Q  Median      3Q     Max \n",
       "-68.587 -17.175  -0.573   9.882 118.046 \n",
       "\n",
       "Coefficients:\n",
       "                Estimate Std. Error t value Pr(>|t|)    \n",
       "(Intercept)      28.7594    13.9789   2.057   0.0484 *  \n",
       "MetrosCuadrados   1.0210     0.1521   6.711 1.95e-07 ***\n",
       "---\n",
       "Signif. codes:  0 ‘***’ 0.001 ‘**’ 0.01 ‘*’ 0.05 ‘.’ 0.1 ‘ ’ 1\n",
       "\n",
       "Residual standard error: 39.41 on 30 degrees of freedom\n",
       "Multiple R-squared:  0.6002,\tAdjusted R-squared:  0.5869 \n",
       "F-statistic: 45.04 on 1 and 30 DF,  p-value: 1.947e-07\n"
      ]
     },
     "metadata": {},
     "output_type": "display_data"
    }
   ],
   "source": [
    "lm(Precio ~ MetrosCuadrados, data = barrio_sol) |> summary()"
   ]
  },
  {
   "cell_type": "code",
   "execution_count": 48,
   "metadata": {},
   "outputs": [],
   "source": [
    "#Es mas fiable la variable de NumDormitorios , porque el Pr es inferior al de MetrosCuadrados"
   ]
  },
  {
   "cell_type": "markdown",
   "metadata": {},
   "source": [
    "Responde con su correspondiente margen de error del 95%, ¿cuantos euros incrementa el precio del alquiler por cada metro cuadrado extra del piso?"
   ]
  },
  {
   "cell_type": "code",
   "execution_count": 49,
   "metadata": {},
   "outputs": [
    {
     "data": {
      "text/html": [
       "<table class=\"dataframe\">\n",
       "<caption>A matrix: 2 × 2 of type dbl</caption>\n",
       "<thead>\n",
       "\t<tr><th></th><th scope=col>2.5 %</th><th scope=col>97.5 %</th></tr>\n",
       "</thead>\n",
       "<tbody>\n",
       "\t<tr><th scope=row>(Intercept)</th><td>0.2107062</td><td>57.308135</td></tr>\n",
       "\t<tr><th scope=row>MetrosCuadrados</th><td>0.7103264</td><td> 1.331749</td></tr>\n",
       "</tbody>\n",
       "</table>\n"
      ],
      "text/latex": [
       "A matrix: 2 × 2 of type dbl\n",
       "\\begin{tabular}{r|ll}\n",
       "  & 2.5 \\% & 97.5 \\%\\\\\n",
       "\\hline\n",
       "\t(Intercept) & 0.2107062 & 57.308135\\\\\n",
       "\tMetrosCuadrados & 0.7103264 &  1.331749\\\\\n",
       "\\end{tabular}\n"
      ],
      "text/markdown": [
       "\n",
       "A matrix: 2 × 2 of type dbl\n",
       "\n",
       "| <!--/--> | 2.5 % | 97.5 % |\n",
       "|---|---|---|\n",
       "| (Intercept) | 0.2107062 | 57.308135 |\n",
       "| MetrosCuadrados | 0.7103264 |  1.331749 |\n",
       "\n"
      ],
      "text/plain": [
       "                2.5 %     97.5 %   \n",
       "(Intercept)     0.2107062 57.308135\n",
       "MetrosCuadrados 0.7103264  1.331749"
      ]
     },
     "metadata": {},
     "output_type": "display_data"
    }
   ],
   "source": [
    "regresion<-lm(Precio ~ MetrosCuadrados, data = barrio_sol)\n",
    "confint(regresion, level = 0.95)\n"
   ]
  },
  {
   "cell_type": "markdown",
   "metadata": {},
   "source": [
    "Responde con su correspondiente margen de error del 95%, ¿cuantos euros incrementa el precio del alquiler por cada habitación?"
   ]
  },
  {
   "cell_type": "code",
   "execution_count": 50,
   "metadata": {},
   "outputs": [
    {
     "data": {
      "text/html": [
       "<table class=\"dataframe\">\n",
       "<caption>A matrix: 2 × 2 of type dbl</caption>\n",
       "<thead>\n",
       "\t<tr><th></th><th scope=col>2.5 %</th><th scope=col>97.5 %</th></tr>\n",
       "</thead>\n",
       "<tbody>\n",
       "\t<tr><th scope=row>(Intercept)</th><td>25.94394</td><td>60.46692</td></tr>\n",
       "\t<tr><th scope=row>NumDormitorios</th><td>32.21985</td><td>48.55095</td></tr>\n",
       "</tbody>\n",
       "</table>\n"
      ],
      "text/latex": [
       "A matrix: 2 × 2 of type dbl\n",
       "\\begin{tabular}{r|ll}\n",
       "  & 2.5 \\% & 97.5 \\%\\\\\n",
       "\\hline\n",
       "\t(Intercept) & 25.94394 & 60.46692\\\\\n",
       "\tNumDormitorios & 32.21985 & 48.55095\\\\\n",
       "\\end{tabular}\n"
      ],
      "text/markdown": [
       "\n",
       "A matrix: 2 × 2 of type dbl\n",
       "\n",
       "| <!--/--> | 2.5 % | 97.5 % |\n",
       "|---|---|---|\n",
       "| (Intercept) | 25.94394 | 60.46692 |\n",
       "| NumDormitorios | 32.21985 | 48.55095 |\n",
       "\n"
      ],
      "text/plain": [
       "               2.5 %    97.5 %  \n",
       "(Intercept)    25.94394 60.46692\n",
       "NumDormitorios 32.21985 48.55095"
      ]
     },
     "metadata": {},
     "output_type": "display_data"
    }
   ],
   "source": [
    "regresion2<-lm(Precio ~ NumDormitorios, data = barrio_sol)\n",
    "confint(regresion2, level = 0.95)"
   ]
  },
  {
   "cell_type": "markdown",
   "metadata": {},
   "source": [
    "¿Cual es la probabilidad de encontrar, en el barrio de Sol, un apartamento en alquiler con 3 dormitorios?\n",
    "¿Cual es el intervalo de confianza de esa probabilidad?"
   ]
  },
  {
   "cell_type": "code",
   "execution_count": 54,
   "metadata": {},
   "outputs": [
    {
     "data": {
      "text/plain": [
       "\n",
       " 0  1  2  3  4  5 \n",
       " 2 14  7  2  2  1 "
      ]
     },
     "metadata": {},
     "output_type": "display_data"
    },
    {
     "data": {
      "text/plain": [
       "Number of cases in table: 28 \n",
       "Number of factors: 1 "
      ]
     },
     "metadata": {},
     "output_type": "display_data"
    }
   ],
   "source": [
    "apartamentos<-barrio_sol[barrio_sol$TipoPropieda == \"Apartment\",] \n",
    "\n",
    "table(apartamentos$NumDormitorios)          #2 apartamentos con 3 dormitorios\n",
    "summary(table(apartamentos$NumDormitorios)) #total apartamentos 28"
   ]
  },
  {
   "cell_type": "code",
   "execution_count": 53,
   "metadata": {},
   "outputs": [
    {
     "data": {
      "text/plain": [
       "\n",
       "\tExact binomial test\n",
       "\n",
       "data:  ns and n\n",
       "number of successes = 2, number of trials = 28, p-value = 3.032e-06\n",
       "alternative hypothesis: true probability of success is not equal to 0.5\n",
       "95 percent confidence interval:\n",
       " 0.008770497 0.235034773\n",
       "sample estimates:\n",
       "probability of success \n",
       "            0.07142857 \n"
      ]
     },
     "metadata": {},
     "output_type": "display_data"
    }
   ],
   "source": [
    "ns<-2\n",
    "n<-28\n",
    "binom.test(ns,n)\n",
    "#Probabilidad : 0.07142857\n",
    "#Intervalo de confianza: 0.008770497 - 0.235034773"
   ]
  }
 ],
 "metadata": {
  "kernelspec": {
   "display_name": "R",
   "language": "R",
   "name": "ir"
  },
  "language_info": {
   "codemirror_mode": "r",
   "file_extension": ".r",
   "mimetype": "text/x-r-source",
   "name": "R",
   "pygments_lexer": "r",
   "version": "4.1.0"
  }
 },
 "nbformat": 4,
 "nbformat_minor": 2
}
